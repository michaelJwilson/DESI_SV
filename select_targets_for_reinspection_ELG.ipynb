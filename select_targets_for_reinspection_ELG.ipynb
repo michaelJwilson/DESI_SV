{
 "cells": [
  {
   "cell_type": "markdown",
   "metadata": {},
   "source": [
    "## Selecting targets for visual re-inspection\n",
    "### ELGs - tile 67230\n",
    "\n",
    "This notebook will merge the truth tables with Andes redrock files and select targets that need to be re-inspected, according to the following criteria:\n",
    "\n",
    "- Redrock z changed between original and new;\n",
    "- Redrock chisq or delta chisq changed by a large amount.\n",
    "- New Redrock z disagrees with visual inspections;\n",
    "- New Redrock Spec type differs from VI;\n",
    "- The VI flag was < 2.5. **N.B: I changed this to <= 2.5**\n"
   ]
  },
  {
   "cell_type": "code",
   "execution_count": 2,
   "metadata": {},
   "outputs": [],
   "source": [
    "import os, sys, glob\n",
    "import numpy as np\n",
    "\n",
    "from astropy.io import fits\n",
    "from astropy.table import Table, join, vstack\n",
    "from astropy.io import fits\n",
    "\n",
    "import pandas as pd\n",
    "import fnmatch\n",
    "\n",
    "import desispec.io\n",
    "\n",
    "sys.path.append(\"/global/homes/r/rtojeiro/SV/python\")\n",
    "import VI_utils as VI\n",
    "\n",
    "import matplotlib.pyplot as plt \n",
    "\n",
    "pd.set_option('display.max_rows', 50)"
   ]
  },
  {
   "cell_type": "raw",
   "metadata": {},
   "source": [
    "tiledir   = '/global/cfs/cdirs/desi/spectro/redux/daily/tiles/'\n",
    "tiles = ['66003']\n",
    "nights = ['20200315']\n",
    "petals = ['0','1', '2', '3', '4', '5', '6' ,'7', '8', '9']"
   ]
  },
  {
   "cell_type": "code",
   "execution_count": 3,
   "metadata": {},
   "outputs": [],
   "source": [
    "tiledir_andes='/global/cfs/cdirs/desi/spectro/redux/andes/tiles/'\n",
    "tiledir = '/global/cfs/cdirs/desi/spectro/redux/daily/tiles/'\n",
    "tile = '67230'\n",
    "date = '20200315'\n",
    "spectrograph = ['0','1', '2', '3', '4', '5', '6' ,'7', '8', '9']"
   ]
  },
  {
   "cell_type": "code",
   "execution_count": 4,
   "metadata": {},
   "outputs": [],
   "source": [
    "save_filename = 'ELG_reinspection_67230.csv'"
   ]
  },
  {
   "cell_type": "markdown",
   "metadata": {},
   "source": [
    "### Read in truth table"
   ]
  },
  {
   "cell_type": "code",
   "execution_count": 5,
   "metadata": {},
   "outputs": [],
   "source": [
    "full_filename = 'truth_table_ELG_v1.1_latest.csv'\n",
    "truth_table = pd.read_csv(os.environ['TT_DIR']+'/'+full_filename)\n",
    "#convert from pandas DataFrame to astropy Table for ease later\n",
    "#truth_table = Table.from_pandas(df)"
   ]
  },
  {
   "cell_type": "code",
   "execution_count": 6,
   "metadata": {},
   "outputs": [
    {
     "data": {
      "text/plain": [
       "Index(['Unnamed: 0', 'TARGETID', 'Redrock z', 'Redrock spectype', 'best z',\n",
       "       'best spectype', 'best flag', 'N_VI', 'all VI issue', 'all VI comments',\n",
       "       'merger comment', 'DELTACHI2', 'ZWARN', 'ZERR', 'FIBER', 'FLUX_G',\n",
       "       'FLUX_R', 'FLUX_Z', 'FIBERFLUX_G', 'FIBERFLUX_R', 'FIBERFLUX_Z',\n",
       "       'MW_TRANSMISSION_G', 'MW_TRANSMISSION_R', 'MW_TRANSMISSION_Z'],\n",
       "      dtype='object')"
      ]
     },
     "execution_count": 6,
     "metadata": {},
     "output_type": "execute_result"
    }
   ],
   "source": [
    "truth_table.keys()"
   ]
  },
  {
   "cell_type": "markdown",
   "metadata": {},
   "source": [
    "First, add chi2 from the original reductions, as we never added that to the truth tables"
   ]
  },
  {
   "cell_type": "code",
   "execution_count": 7,
   "metadata": {},
   "outputs": [],
   "source": [
    "#read in zbest info, loop over the files for all the spectrographs\n",
    "tspec = Table.read(tiledir+'/'+tile + '/'+date+'/zbest-'+str(spectrograph[0])+'-'+str(tile)+'-'+date+'.fits',hdu='ZBEST')\n",
    "for i in range(1,len(spectrograph)):\n",
    "    tn = Table.read(tiledir+'/'+tile + '/'+date+'/zbest-'+str(spectrograph[i])+'-'+str(tile)+'-'+date+'.fits',hdu='ZBEST')\n",
    "    tspec = vstack([tspec,tn])\n",
    "\n",
    "tspec_df = tspec['TARGETID','CHI2'].to_pandas()\n",
    "\n",
    "truth_table = truth_table.merge(tspec_df, how='left', on='TARGETID')"
   ]
  },
  {
   "cell_type": "code",
   "execution_count": 8,
   "metadata": {},
   "outputs": [
    {
     "data": {
      "text/plain": [
       "Index(['Unnamed: 0', 'TARGETID', 'Redrock z', 'Redrock spectype', 'best z',\n",
       "       'best spectype', 'best flag', 'N_VI', 'all VI issue', 'all VI comments',\n",
       "       'merger comment', 'DELTACHI2', 'ZWARN', 'ZERR', 'FIBER', 'FLUX_G',\n",
       "       'FLUX_R', 'FLUX_Z', 'FIBERFLUX_G', 'FIBERFLUX_R', 'FIBERFLUX_Z',\n",
       "       'MW_TRANSMISSION_G', 'MW_TRANSMISSION_R', 'MW_TRANSMISSION_Z', 'CHI2'],\n",
       "      dtype='object')"
      ]
     },
     "execution_count": 8,
     "metadata": {},
     "output_type": "execute_result"
    }
   ],
   "source": [
    "truth_table.keys()"
   ]
  },
  {
   "cell_type": "markdown",
   "metadata": {},
   "source": [
    "Now add information from the Andes reductions: redshift, chi2, deltachi2, spectype and warning flags"
   ]
  },
  {
   "cell_type": "code",
   "execution_count": 9,
   "metadata": {},
   "outputs": [],
   "source": [
    "#read in zbest info, loop over the files for all the spectrographs\n",
    "tspec = Table.read(tiledir_andes+'/'+tile + '/'+date+'/zbest-'+str(spectrograph[0])+'-'+str(tile)+'-'+date+'.fits',hdu='ZBEST')\n",
    "for i in range(1,len(spectrograph)):\n",
    "    tn = Table.read(tiledir_andes+'/'+tile + '/'+date+'/zbest-'+str(spectrograph[i])+'-'+str(tile)+'-'+date+'.fits',hdu='ZBEST')\n",
    "    tspec = vstack([tspec,tn])\n",
    "\n",
    "tspec_df = tspec['TARGETID','Z','CHI2', 'DELTACHI2','ZWARN', 'ZERR', 'SPECTYPE' ].to_pandas()\n",
    "\n",
    "tspec_df = tspec_df.rename(columns={\"Z\": \"Z_andes\"})\n",
    "tspec_df = tspec_df.rename(columns={\"CHI2\": \"CHI2_andes\"})\n",
    "tspec_df = tspec_df.rename(columns={\"SPECTYPE\": \"SPECTYPE_andes\"})\n",
    "\n",
    "truth_table = truth_table.merge(tspec_df, how='left', on='TARGETID', suffixes=('', '_andes'))"
   ]
  },
  {
   "cell_type": "code",
   "execution_count": 10,
   "metadata": {},
   "outputs": [
    {
     "data": {
      "text/plain": [
       "Index(['Unnamed: 0', 'TARGETID', 'Redrock z', 'Redrock spectype', 'best z',\n",
       "       'best spectype', 'best flag', 'N_VI', 'all VI issue', 'all VI comments',\n",
       "       'merger comment', 'DELTACHI2', 'ZWARN', 'ZERR', 'FIBER', 'FLUX_G',\n",
       "       'FLUX_R', 'FLUX_Z', 'FIBERFLUX_G', 'FIBERFLUX_R', 'FIBERFLUX_Z',\n",
       "       'MW_TRANSMISSION_G', 'MW_TRANSMISSION_R', 'MW_TRANSMISSION_Z', 'CHI2',\n",
       "       'Z_andes', 'CHI2_andes', 'DELTACHI2_andes', 'ZWARN_andes', 'ZERR_andes',\n",
       "       'SPECTYPE_andes'],\n",
       "      dtype='object')"
      ]
     },
     "execution_count": 10,
     "metadata": {},
     "output_type": "execute_result"
    }
   ],
   "source": [
    "truth_table.keys()"
   ]
  },
  {
   "cell_type": "raw",
   "metadata": {},
   "source": [
    "- Redrock z changed between original and new; (done)\n",
    "- Redrock chisq or delta chisq changed by a large amount. (done for deltachi2)\n",
    "- New Redrock z disagrees with visual inspections; (done)\n",
    "- New Redrock Spec type differs from VI; (done)\n",
    "- The VI flag was <= 2.5.  (done)"
   ]
  },
  {
   "cell_type": "code",
   "execution_count": 11,
   "metadata": {},
   "outputs": [
    {
     "data": {
      "text/plain": [
       "Text(0,0.5,'DELTACHI Andes')"
      ]
     },
     "execution_count": 11,
     "metadata": {},
     "output_type": "execute_result"
    },
    {
     "data": {
      "image/png": "[encoded data removed]",
      "text/plain": [
       "<matplotlib.figure.Figure at 0x2aaae098fc88>"
      ]
     },
     "metadata": {
      "needs_background": "light"
     },
     "output_type": "display_data"
    }
   ],
   "source": [
    "plt.figure(figsize=(10,7))\n",
    "plt.scatter(np.log10(truth_table['DELTACHI2']), np.log10(truth_table['DELTACHI2_andes']))\n",
    "plt.plot([-1,6], [-1,6], color='red')\n",
    "plt.xlabel('DELTACHI')\n",
    "plt.ylabel('DELTACHI Andes')"
   ]
  },
  {
   "cell_type": "code",
   "execution_count": 12,
   "metadata": {},
   "outputs": [
    {
     "data": {
      "text/plain": [
       "Text(0,0.5,'DELTACHI Andes')"
      ]
     },
     "execution_count": 12,
     "metadata": {},
     "output_type": "execute_result"
    },
    {
     "data": {
      "image/png": "[encoded data removed]",
      "text/plain": [
       "<matplotlib.figure.Figure at 0x2aaae09fd358>"
      ]
     },
     "metadata": {
      "needs_background": "light"
     },
     "output_type": "display_data"
    }
   ],
   "source": [
    "plt.figure(figsize=(10,7))\n",
    "plt.scatter(np.log10(truth_table['DELTACHI2']), \n",
    "    (np.log10(truth_table['DELTACHI2'])-np.log10(truth_table['DELTACHI2_andes'])))\n",
    "plt.plot([-1,6], [0,0], color='red')\n",
    "plt.xlabel('DELTACHI')\n",
    "plt.ylabel('DELTACHI Andes')"
   ]
  },
  {
   "cell_type": "code",
   "execution_count": 24,
   "metadata": {},
   "outputs": [
    {
     "data": {
      "text/plain": [
       "Text(0,0.5,'N')"
      ]
     },
     "execution_count": 24,
     "metadata": {},
     "output_type": "execute_result"
    },
    {
     "data": {
      "image/png": "[encoded data removed]",
      "text/plain": [
       "<matplotlib.figure.Figure at 0x2aaae20fda20>"
      ]
     },
     "metadata": {
      "needs_background": "light"
     },
     "output_type": "display_data"
    }
   ],
   "source": [
    "plt.figure(figsize=(10,7))\n",
    "x=plt.hist(np.log10(truth_table['DELTACHI2'])-np.log10(truth_table['DELTACHI2_andes']), bins=30,\n",
    "            range=(-1,1))\n",
    "plt.xlabel('log_delchi2 - log_deltachi2_andes')\n",
    "plt.ylabel('N')"
   ]
  },
  {
   "cell_type": "markdown",
   "metadata": {},
   "source": [
    "I'm going to include everything for which log10_deltachi2 changed by more than 0.25 in absolute value"
   ]
  },
  {
   "cell_type": "code",
   "execution_count": 14,
   "metadata": {},
   "outputs": [
    {
     "data": {
      "text/plain": [
       "Text(0,0.5,'log CHI2 Andes')"
      ]
     },
     "execution_count": 14,
     "metadata": {},
     "output_type": "execute_result"
    },
    {
     "data": {
      "image/png": "[encoded data removed]",
      "text/plain": [
       "<matplotlib.figure.Figure at 0x2aaae1477f98>"
      ]
     },
     "metadata": {
      "needs_background": "light"
     },
     "output_type": "display_data"
    }
   ],
   "source": [
    "plt.figure(figsize=(10,7))\n",
    "plt.scatter(np.log10(truth_table['CHI2']), np.log10(truth_table['CHI2_andes']))\n",
    "plt.plot([3.8,5], [3.8,5], color='red')\n",
    "plt.xlabel('log CHI2')\n",
    "plt.ylabel('log CHI2 Andes')"
   ]
  },
  {
   "cell_type": "markdown",
   "metadata": {},
   "source": [
    "Chi2 is generally higher in Andes, so I'm **not** going to include chi2 difference between original and Andes reductions in the criteria for re-inspection."
   ]
  },
  {
   "cell_type": "code",
   "execution_count": 19,
   "metadata": {},
   "outputs": [
    {
     "name": "stdout",
     "output_type": "stream",
     "text": [
      "1250\n"
     ]
    }
   ],
   "source": [
    "re_VI = truth_table[ \\\n",
    "            ((truth_table['Redrock z']-truth_table['Z_andes'])/(1+truth_table['Redrock z']) > 0.0033) | \n",
    "            ((truth_table['best z']-truth_table['Z_andes'])/(1+truth_table['best z']) > 0.0033) |\n",
    "            (truth_table['best spectype'] != truth_table['SPECTYPE_andes']) |\n",
    "            (truth_table['best flag'] <= 2.5) | \n",
    "            (np.abs(np.log10(truth_table['DELTACHI2'])-np.log10(truth_table['DELTACHI2_andes'])) > 0.1 )       \n",
    "            ]\n",
    "print(len(re_VI))"
   ]
  },
  {
   "cell_type": "code",
   "execution_count": 20,
   "metadata": {},
   "outputs": [
    {
     "data": {
      "text/plain": [
       "Index(['Unnamed: 0', 'TARGETID', 'Redrock z', 'Redrock spectype', 'best z',\n",
       "       'best spectype', 'best flag', 'N_VI', 'all VI issue', 'all VI comments',\n",
       "       'merger comment', 'DELTACHI2', 'ZWARN', 'ZERR', 'FIBER', 'FLUX_G',\n",
       "       'FLUX_R', 'FLUX_Z', 'FIBERFLUX_G', 'FIBERFLUX_R', 'FIBERFLUX_Z',\n",
       "       'MW_TRANSMISSION_G', 'MW_TRANSMISSION_R', 'MW_TRANSMISSION_Z', 'CHI2',\n",
       "       'Z_andes', 'CHI2_andes', 'DELTACHI2_andes', 'ZWARN_andes', 'ZERR_andes',\n",
       "       'SPECTYPE_andes'],\n",
       "      dtype='object')"
      ]
     },
     "execution_count": 20,
     "metadata": {},
     "output_type": "execute_result"
    }
   ],
   "source": [
    "re_VI.keys()"
   ]
  },
  {
   "cell_type": "code",
   "execution_count": 22,
   "metadata": {},
   "outputs": [
    {
     "data": {
      "text/html": [
       "<div>\n",
       "<style scoped>\n",
       "    .dataframe tbody tr th:only-of-type {\n",
       "        vertical-align: middle;\n",
       "    }\n",
       "\n",
       "    .dataframe tbody tr th {\n",
       "        vertical-align: top;\n",
       "    }\n",
       "\n",
       "    .dataframe thead th {\n",
       "        text-align: right;\n",
       "    }\n",
       "</style>\n",
       "<table border=\"1\" class=\"dataframe\">\n",
       "  <thead>\n",
       "    <tr style=\"text-align: right;\">\n",
       "      <th></th>\n",
       "      <th>best z</th>\n",
       "      <th>Redrock z</th>\n",
       "      <th>Z_andes</th>\n",
       "      <th>best flag</th>\n",
       "      <th>best spectype</th>\n",
       "      <th>SPECTYPE_andes</th>\n",
       "      <th>DELTACHI2</th>\n",
       "      <th>DELTACHI2_andes</th>\n",
       "    </tr>\n",
       "  </thead>\n",
       "  <tbody>\n",
       "    <tr>\n",
       "      <th>0</th>\n",
       "      <td>0.5481</td>\n",
       "      <td>0.5481</td>\n",
       "      <td>0.583852</td>\n",
       "      <td>0.333333</td>\n",
       "      <td>GALAXY</td>\n",
       "      <td>GALAXY</td>\n",
       "      <td>6.121645</td>\n",
       "      <td>3.583444</td>\n",
       "    </tr>\n",
       "    <tr>\n",
       "      <th>2</th>\n",
       "      <td>1.2095</td>\n",
       "      <td>1.2095</td>\n",
       "      <td>1.209518</td>\n",
       "      <td>2.000000</td>\n",
       "      <td>GALAXY</td>\n",
       "      <td>GALAXY</td>\n",
       "      <td>43.749015</td>\n",
       "      <td>91.443574</td>\n",
       "    </tr>\n",
       "    <tr>\n",
       "      <th>6</th>\n",
       "      <td>1.1293</td>\n",
       "      <td>1.1293</td>\n",
       "      <td>1.129337</td>\n",
       "      <td>3.666667</td>\n",
       "      <td>GALAXY</td>\n",
       "      <td>GALAXY</td>\n",
       "      <td>33.110367</td>\n",
       "      <td>70.876879</td>\n",
       "    </tr>\n",
       "    <tr>\n",
       "      <th>9</th>\n",
       "      <td>1.5280</td>\n",
       "      <td>1.5280</td>\n",
       "      <td>1.527994</td>\n",
       "      <td>1.000000</td>\n",
       "      <td>GALAXY</td>\n",
       "      <td>GALAXY</td>\n",
       "      <td>19.545464</td>\n",
       "      <td>17.223384</td>\n",
       "    </tr>\n",
       "    <tr>\n",
       "      <th>10</th>\n",
       "      <td>1.3827</td>\n",
       "      <td>1.3827</td>\n",
       "      <td>1.029140</td>\n",
       "      <td>0.333333</td>\n",
       "      <td>GALAXY</td>\n",
       "      <td>GALAXY</td>\n",
       "      <td>0.830912</td>\n",
       "      <td>1.845067</td>\n",
       "    </tr>\n",
       "    <tr>\n",
       "      <th>11</th>\n",
       "      <td>0.5312</td>\n",
       "      <td>0.5312</td>\n",
       "      <td>0.555416</td>\n",
       "      <td>1.000000</td>\n",
       "      <td>GALAXY</td>\n",
       "      <td>GALAXY</td>\n",
       "      <td>1.316707</td>\n",
       "      <td>6.337066</td>\n",
       "    </tr>\n",
       "    <tr>\n",
       "      <th>15</th>\n",
       "      <td>0.3384</td>\n",
       "      <td>0.3384</td>\n",
       "      <td>0.570643</td>\n",
       "      <td>0.333333</td>\n",
       "      <td>GALAXY</td>\n",
       "      <td>GALAXY</td>\n",
       "      <td>3.116829</td>\n",
       "      <td>13.144874</td>\n",
       "    </tr>\n",
       "    <tr>\n",
       "      <th>22</th>\n",
       "      <td>0.5646</td>\n",
       "      <td>0.5646</td>\n",
       "      <td>0.528818</td>\n",
       "      <td>0.333333</td>\n",
       "      <td>GALAXY</td>\n",
       "      <td>GALAXY</td>\n",
       "      <td>5.579757</td>\n",
       "      <td>2.098508</td>\n",
       "    </tr>\n",
       "    <tr>\n",
       "      <th>25</th>\n",
       "      <td>1.2374</td>\n",
       "      <td>1.2374</td>\n",
       "      <td>1.237440</td>\n",
       "      <td>2.000000</td>\n",
       "      <td>QSO</td>\n",
       "      <td>QSO</td>\n",
       "      <td>48.094389</td>\n",
       "      <td>60.527001</td>\n",
       "    </tr>\n",
       "    <tr>\n",
       "      <th>27</th>\n",
       "      <td>0.2956</td>\n",
       "      <td>0.2956</td>\n",
       "      <td>1.402978</td>\n",
       "      <td>0.333333</td>\n",
       "      <td>GALAXY</td>\n",
       "      <td>GALAXY</td>\n",
       "      <td>7.567056</td>\n",
       "      <td>25.686877</td>\n",
       "    </tr>\n",
       "    <tr>\n",
       "      <th>34</th>\n",
       "      <td>0.1198</td>\n",
       "      <td>0.1198</td>\n",
       "      <td>0.119766</td>\n",
       "      <td>0.333333</td>\n",
       "      <td>GALAXY</td>\n",
       "      <td>GALAXY</td>\n",
       "      <td>2.288741</td>\n",
       "      <td>2.583151</td>\n",
       "    </tr>\n",
       "    <tr>\n",
       "      <th>38</th>\n",
       "      <td>0.1811</td>\n",
       "      <td>0.1811</td>\n",
       "      <td>0.181143</td>\n",
       "      <td>0.333333</td>\n",
       "      <td>GALAXY</td>\n",
       "      <td>GALAXY</td>\n",
       "      <td>20.998664</td>\n",
       "      <td>17.115530</td>\n",
       "    </tr>\n",
       "    <tr>\n",
       "      <th>43</th>\n",
       "      <td>0.8996</td>\n",
       "      <td>0.8996</td>\n",
       "      <td>0.913890</td>\n",
       "      <td>0.333333</td>\n",
       "      <td>GALAXY</td>\n",
       "      <td>GALAXY</td>\n",
       "      <td>1.616247</td>\n",
       "      <td>1.291540</td>\n",
       "    </tr>\n",
       "    <tr>\n",
       "      <th>44</th>\n",
       "      <td>0.5055</td>\n",
       "      <td>0.5055</td>\n",
       "      <td>0.974414</td>\n",
       "      <td>1.000000</td>\n",
       "      <td>GALAXY</td>\n",
       "      <td>GALAXY</td>\n",
       "      <td>20.336725</td>\n",
       "      <td>24.625937</td>\n",
       "    </tr>\n",
       "    <tr>\n",
       "      <th>46</th>\n",
       "      <td>1.4978</td>\n",
       "      <td>1.4978</td>\n",
       "      <td>1.497880</td>\n",
       "      <td>2.333333</td>\n",
       "      <td>GALAXY</td>\n",
       "      <td>GALAXY</td>\n",
       "      <td>49.732391</td>\n",
       "      <td>53.230835</td>\n",
       "    </tr>\n",
       "    <tr>\n",
       "      <th>49</th>\n",
       "      <td>0.2646</td>\n",
       "      <td>0.2646</td>\n",
       "      <td>0.264584</td>\n",
       "      <td>1.000000</td>\n",
       "      <td>GALAXY</td>\n",
       "      <td>GALAXY</td>\n",
       "      <td>17.943131</td>\n",
       "      <td>17.918366</td>\n",
       "    </tr>\n",
       "    <tr>\n",
       "      <th>51</th>\n",
       "      <td>1.5693</td>\n",
       "      <td>1.5693</td>\n",
       "      <td>1.542038</td>\n",
       "      <td>0.666667</td>\n",
       "      <td>GALAXY</td>\n",
       "      <td>GALAXY</td>\n",
       "      <td>2.498394</td>\n",
       "      <td>49.153344</td>\n",
       "    </tr>\n",
       "    <tr>\n",
       "      <th>52</th>\n",
       "      <td>1.5405</td>\n",
       "      <td>1.5405</td>\n",
       "      <td>1.540509</td>\n",
       "      <td>2.000000</td>\n",
       "      <td>GALAXY</td>\n",
       "      <td>GALAXY</td>\n",
       "      <td>42.366031</td>\n",
       "      <td>43.382249</td>\n",
       "    </tr>\n",
       "    <tr>\n",
       "      <th>57</th>\n",
       "      <td>2.8897</td>\n",
       "      <td>2.8897</td>\n",
       "      <td>1.000542</td>\n",
       "      <td>2.000000</td>\n",
       "      <td>QSO</td>\n",
       "      <td>GALAXY</td>\n",
       "      <td>11.481968</td>\n",
       "      <td>6.426745</td>\n",
       "    </tr>\n",
       "    <tr>\n",
       "      <th>59</th>\n",
       "      <td>0.8617</td>\n",
       "      <td>0.8617</td>\n",
       "      <td>1.027332</td>\n",
       "      <td>0.666667</td>\n",
       "      <td>GALAXY</td>\n",
       "      <td>GALAXY</td>\n",
       "      <td>3.312165</td>\n",
       "      <td>1.902431</td>\n",
       "    </tr>\n",
       "    <tr>\n",
       "      <th>62</th>\n",
       "      <td>0.1615</td>\n",
       "      <td>0.1982</td>\n",
       "      <td>0.860254</td>\n",
       "      <td>1.000000</td>\n",
       "      <td>GALAXY</td>\n",
       "      <td>GALAXY</td>\n",
       "      <td>7.216114</td>\n",
       "      <td>3.239592</td>\n",
       "    </tr>\n",
       "    <tr>\n",
       "      <th>65</th>\n",
       "      <td>0.5092</td>\n",
       "      <td>0.5092</td>\n",
       "      <td>0.583918</td>\n",
       "      <td>0.666667</td>\n",
       "      <td>GALAXY</td>\n",
       "      <td>GALAXY</td>\n",
       "      <td>1.113909</td>\n",
       "      <td>4.769097</td>\n",
       "    </tr>\n",
       "    <tr>\n",
       "      <th>66</th>\n",
       "      <td>0.9868</td>\n",
       "      <td>0.9868</td>\n",
       "      <td>0.986849</td>\n",
       "      <td>0.333333</td>\n",
       "      <td>GALAXY</td>\n",
       "      <td>GALAXY</td>\n",
       "      <td>8.860969</td>\n",
       "      <td>12.649030</td>\n",
       "    </tr>\n",
       "    <tr>\n",
       "      <th>69</th>\n",
       "      <td>0.7200</td>\n",
       "      <td>0.7200</td>\n",
       "      <td>0.719985</td>\n",
       "      <td>4.000000</td>\n",
       "      <td>GALAXY</td>\n",
       "      <td>GALAXY</td>\n",
       "      <td>156.863790</td>\n",
       "      <td>257.747845</td>\n",
       "    </tr>\n",
       "    <tr>\n",
       "      <th>75</th>\n",
       "      <td>1.3515</td>\n",
       "      <td>1.3515</td>\n",
       "      <td>1.499431</td>\n",
       "      <td>0.666667</td>\n",
       "      <td>GALAXY</td>\n",
       "      <td>GALAXY</td>\n",
       "      <td>11.850001</td>\n",
       "      <td>9.628645</td>\n",
       "    </tr>\n",
       "    <tr>\n",
       "      <th>...</th>\n",
       "      <td>...</td>\n",
       "      <td>...</td>\n",
       "      <td>...</td>\n",
       "      <td>...</td>\n",
       "      <td>...</td>\n",
       "      <td>...</td>\n",
       "      <td>...</td>\n",
       "      <td>...</td>\n",
       "    </tr>\n",
       "    <tr>\n",
       "      <th>2401</th>\n",
       "      <td>1.5104</td>\n",
       "      <td>1.5104</td>\n",
       "      <td>1.148785</td>\n",
       "      <td>0.333333</td>\n",
       "      <td>GALAXY</td>\n",
       "      <td>GALAXY</td>\n",
       "      <td>0.795942</td>\n",
       "      <td>0.692298</td>\n",
       "    </tr>\n",
       "    <tr>\n",
       "      <th>2403</th>\n",
       "      <td>0.5113</td>\n",
       "      <td>0.5113</td>\n",
       "      <td>0.781430</td>\n",
       "      <td>0.250000</td>\n",
       "      <td>GALAXY</td>\n",
       "      <td>GALAXY</td>\n",
       "      <td>2.563590</td>\n",
       "      <td>2.410458</td>\n",
       "    </tr>\n",
       "    <tr>\n",
       "      <th>2405</th>\n",
       "      <td>1.5414</td>\n",
       "      <td>1.5414</td>\n",
       "      <td>0.788288</td>\n",
       "      <td>1.250000</td>\n",
       "      <td>GALAXY</td>\n",
       "      <td>GALAXY</td>\n",
       "      <td>15.685232</td>\n",
       "      <td>47.310604</td>\n",
       "    </tr>\n",
       "    <tr>\n",
       "      <th>2409</th>\n",
       "      <td>1.0450</td>\n",
       "      <td>1.0450</td>\n",
       "      <td>0.522440</td>\n",
       "      <td>3.000000</td>\n",
       "      <td>GALAXY</td>\n",
       "      <td>GALAXY</td>\n",
       "      <td>8.820278</td>\n",
       "      <td>38.603195</td>\n",
       "    </tr>\n",
       "    <tr>\n",
       "      <th>2410</th>\n",
       "      <td>1.6051</td>\n",
       "      <td>1.6051</td>\n",
       "      <td>1.605199</td>\n",
       "      <td>0.250000</td>\n",
       "      <td>GALAXY</td>\n",
       "      <td>GALAXY</td>\n",
       "      <td>16.312528</td>\n",
       "      <td>19.559830</td>\n",
       "    </tr>\n",
       "    <tr>\n",
       "      <th>2411</th>\n",
       "      <td>0.7629</td>\n",
       "      <td>0.7629</td>\n",
       "      <td>0.762899</td>\n",
       "      <td>0.000000</td>\n",
       "      <td>GALAXY</td>\n",
       "      <td>GALAXY</td>\n",
       "      <td>3.935543</td>\n",
       "      <td>12.055225</td>\n",
       "    </tr>\n",
       "    <tr>\n",
       "      <th>2413</th>\n",
       "      <td>1.6282</td>\n",
       "      <td>1.6282</td>\n",
       "      <td>0.824587</td>\n",
       "      <td>0.000000</td>\n",
       "      <td>GALAXY</td>\n",
       "      <td>GALAXY</td>\n",
       "      <td>1.301871</td>\n",
       "      <td>9.006185</td>\n",
       "    </tr>\n",
       "    <tr>\n",
       "      <th>2415</th>\n",
       "      <td>0.7814</td>\n",
       "      <td>0.7814</td>\n",
       "      <td>1.393289</td>\n",
       "      <td>0.250000</td>\n",
       "      <td>GALAXY</td>\n",
       "      <td>GALAXY</td>\n",
       "      <td>3.014994</td>\n",
       "      <td>1.802716</td>\n",
       "    </tr>\n",
       "    <tr>\n",
       "      <th>2416</th>\n",
       "      <td>1.4410</td>\n",
       "      <td>1.4410</td>\n",
       "      <td>1.084326</td>\n",
       "      <td>0.250000</td>\n",
       "      <td>QSO</td>\n",
       "      <td>GALAXY</td>\n",
       "      <td>2.216058</td>\n",
       "      <td>6.978640</td>\n",
       "    </tr>\n",
       "    <tr>\n",
       "      <th>2417</th>\n",
       "      <td>0.5234</td>\n",
       "      <td>0.5234</td>\n",
       "      <td>0.522219</td>\n",
       "      <td>0.750000</td>\n",
       "      <td>GALAXY</td>\n",
       "      <td>GALAXY</td>\n",
       "      <td>17.364094</td>\n",
       "      <td>14.841952</td>\n",
       "    </tr>\n",
       "    <tr>\n",
       "      <th>2418</th>\n",
       "      <td>1.0707</td>\n",
       "      <td>1.0707</td>\n",
       "      <td>1.070724</td>\n",
       "      <td>0.250000</td>\n",
       "      <td>GALAXY</td>\n",
       "      <td>GALAXY</td>\n",
       "      <td>0.845249</td>\n",
       "      <td>0.290477</td>\n",
       "    </tr>\n",
       "    <tr>\n",
       "      <th>2419</th>\n",
       "      <td>1.0307</td>\n",
       "      <td>1.0307</td>\n",
       "      <td>0.512336</td>\n",
       "      <td>0.250000</td>\n",
       "      <td>GALAXY</td>\n",
       "      <td>GALAXY</td>\n",
       "      <td>14.435278</td>\n",
       "      <td>0.030116</td>\n",
       "    </tr>\n",
       "    <tr>\n",
       "      <th>2420</th>\n",
       "      <td>0.7818</td>\n",
       "      <td>0.7818</td>\n",
       "      <td>0.759915</td>\n",
       "      <td>0.000000</td>\n",
       "      <td>GALAXY</td>\n",
       "      <td>GALAXY</td>\n",
       "      <td>0.545865</td>\n",
       "      <td>8.530257</td>\n",
       "    </tr>\n",
       "    <tr>\n",
       "      <th>2421</th>\n",
       "      <td>0.1152</td>\n",
       "      <td>0.1152</td>\n",
       "      <td>0.115145</td>\n",
       "      <td>0.250000</td>\n",
       "      <td>GALAXY</td>\n",
       "      <td>GALAXY</td>\n",
       "      <td>1.087007</td>\n",
       "      <td>0.272497</td>\n",
       "    </tr>\n",
       "    <tr>\n",
       "      <th>2422</th>\n",
       "      <td>0.7883</td>\n",
       "      <td>0.7883</td>\n",
       "      <td>0.788306</td>\n",
       "      <td>0.000000</td>\n",
       "      <td>GALAXY</td>\n",
       "      <td>GALAXY</td>\n",
       "      <td>18.329491</td>\n",
       "      <td>0.213746</td>\n",
       "    </tr>\n",
       "    <tr>\n",
       "      <th>2423</th>\n",
       "      <td>1.2520</td>\n",
       "      <td>1.2520</td>\n",
       "      <td>0.824269</td>\n",
       "      <td>0.250000</td>\n",
       "      <td>GALAXY</td>\n",
       "      <td>GALAXY</td>\n",
       "      <td>29.065011</td>\n",
       "      <td>2.185024</td>\n",
       "    </tr>\n",
       "    <tr>\n",
       "      <th>2424</th>\n",
       "      <td>0.9950</td>\n",
       "      <td>0.9950</td>\n",
       "      <td>0.995028</td>\n",
       "      <td>0.500000</td>\n",
       "      <td>GALAXY</td>\n",
       "      <td>GALAXY</td>\n",
       "      <td>4.646253</td>\n",
       "      <td>7.963708</td>\n",
       "    </tr>\n",
       "    <tr>\n",
       "      <th>2428</th>\n",
       "      <td>1.3336</td>\n",
       "      <td>1.3336</td>\n",
       "      <td>1.333626</td>\n",
       "      <td>3.000000</td>\n",
       "      <td>GALAXY</td>\n",
       "      <td>GALAXY</td>\n",
       "      <td>3.629067</td>\n",
       "      <td>34.949895</td>\n",
       "    </tr>\n",
       "    <tr>\n",
       "      <th>2432</th>\n",
       "      <td>0.2425</td>\n",
       "      <td>0.2425</td>\n",
       "      <td>0.502986</td>\n",
       "      <td>1.000000</td>\n",
       "      <td>GALAXY</td>\n",
       "      <td>GALAXY</td>\n",
       "      <td>32.121209</td>\n",
       "      <td>3.454193</td>\n",
       "    </tr>\n",
       "    <tr>\n",
       "      <th>2434</th>\n",
       "      <td>0.5001</td>\n",
       "      <td>0.5001</td>\n",
       "      <td>0.500100</td>\n",
       "      <td>0.750000</td>\n",
       "      <td>GALAXY</td>\n",
       "      <td>GALAXY</td>\n",
       "      <td>21.268018</td>\n",
       "      <td>40.461279</td>\n",
       "    </tr>\n",
       "    <tr>\n",
       "      <th>2440</th>\n",
       "      <td>1.6027</td>\n",
       "      <td>1.6027</td>\n",
       "      <td>0.781265</td>\n",
       "      <td>0.000000</td>\n",
       "      <td>GALAXY</td>\n",
       "      <td>GALAXY</td>\n",
       "      <td>13.615665</td>\n",
       "      <td>5.634945</td>\n",
       "    </tr>\n",
       "    <tr>\n",
       "      <th>2441</th>\n",
       "      <td>1.2530</td>\n",
       "      <td>0.2797</td>\n",
       "      <td>1.634859</td>\n",
       "      <td>4.000000</td>\n",
       "      <td>GALAXY</td>\n",
       "      <td>GALAXY</td>\n",
       "      <td>48.813303</td>\n",
       "      <td>17.070765</td>\n",
       "    </tr>\n",
       "    <tr>\n",
       "      <th>2443</th>\n",
       "      <td>0.7200</td>\n",
       "      <td>0.7200</td>\n",
       "      <td>0.720017</td>\n",
       "      <td>4.000000</td>\n",
       "      <td>GALAXY</td>\n",
       "      <td>GALAXY</td>\n",
       "      <td>231.071403</td>\n",
       "      <td>181.993235</td>\n",
       "    </tr>\n",
       "    <tr>\n",
       "      <th>2445</th>\n",
       "      <td>0.5954</td>\n",
       "      <td>0.5954</td>\n",
       "      <td>0.643297</td>\n",
       "      <td>0.500000</td>\n",
       "      <td>GALAXY</td>\n",
       "      <td>GALAXY</td>\n",
       "      <td>8.588115</td>\n",
       "      <td>1.202492</td>\n",
       "    </tr>\n",
       "    <tr>\n",
       "      <th>2448</th>\n",
       "      <td>0.5027</td>\n",
       "      <td>0.5027</td>\n",
       "      <td>0.499798</td>\n",
       "      <td>0.500000</td>\n",
       "      <td>GALAXY</td>\n",
       "      <td>GALAXY</td>\n",
       "      <td>49.307792</td>\n",
       "      <td>4.362529</td>\n",
       "    </tr>\n",
       "  </tbody>\n",
       "</table>\n",
       "<p>1250 rows × 8 columns</p>\n",
       "</div>"
      ],
      "text/plain": [
       "      best z  Redrock z   Z_andes  best flag best spectype SPECTYPE_andes  \\\n",
       "0     0.5481     0.5481  0.583852   0.333333        GALAXY         GALAXY   \n",
       "2     1.2095     1.2095  1.209518   2.000000        GALAXY         GALAXY   \n",
       "6     1.1293     1.1293  1.129337   3.666667        GALAXY         GALAXY   \n",
       "9     1.5280     1.5280  1.527994   1.000000        GALAXY         GALAXY   \n",
       "10    1.3827     1.3827  1.029140   0.333333        GALAXY         GALAXY   \n",
       "...      ...        ...       ...        ...           ...            ...   \n",
       "2440  1.6027     1.6027  0.781265   0.000000        GALAXY         GALAXY   \n",
       "2441  1.2530     0.2797  1.634859   4.000000        GALAXY         GALAXY   \n",
       "2443  0.7200     0.7200  0.720017   4.000000        GALAXY         GALAXY   \n",
       "2445  0.5954     0.5954  0.643297   0.500000        GALAXY         GALAXY   \n",
       "2448  0.5027     0.5027  0.499798   0.500000        GALAXY         GALAXY   \n",
       "\n",
       "       DELTACHI2  DELTACHI2_andes  \n",
       "0       6.121645         3.583444  \n",
       "2      43.749015        91.443574  \n",
       "6      33.110367        70.876879  \n",
       "9      19.545464        17.223384  \n",
       "10      0.830912         1.845067  \n",
       "...          ...              ...  \n",
       "2440   13.615665         5.634945  \n",
       "2441   48.813303        17.070765  \n",
       "2443  231.071403       181.993235  \n",
       "2445    8.588115         1.202492  \n",
       "2448   49.307792         4.362529  \n",
       "\n",
       "[1250 rows x 8 columns]"
      ]
     },
     "execution_count": 22,
     "metadata": {},
     "output_type": "execute_result"
    }
   ],
   "source": [
    "re_VI[['best z', 'Redrock z', 'Z_andes', 'best flag', 'best spectype', 'SPECTYPE_andes', 'DELTACHI2', 'DELTACHI2_andes']]"
   ]
  },
  {
   "cell_type": "code",
   "execution_count": 23,
   "metadata": {},
   "outputs": [],
   "source": [
    "re_VI['TARGETID'].to_csv(os.environ['TT_DIR']+save_filename, index=False, header=False)"
   ]
  },
  {
   "cell_type": "code",
   "execution_count": null,
   "metadata": {},
   "outputs": [],
   "source": []
  },
  {
   "cell_type": "code",
   "execution_count": null,
   "metadata": {},
   "outputs": [],
   "source": []
  }
 ],
 "metadata": {
  "kernelspec": {
   "display_name": "my DESI 19.10",
   "language": "python",
   "name": "desi-19.10"
  },
  "language_info": {
   "codemirror_mode": {
    "name": "ipython",
    "version": 3
   },
   "file_extension": ".py",
   "mimetype": "text/x-python",
   "name": "python",
   "nbconvert_exporter": "python",
   "pygments_lexer": "ipython3",
   "version": "3.6.6"
  }
 },
 "nbformat": 4,
 "nbformat_minor": 4
}
