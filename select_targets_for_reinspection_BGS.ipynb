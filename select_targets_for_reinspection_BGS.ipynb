{
 "cells": [
  {
   "cell_type": "markdown",
   "metadata": {},
   "source": [
    "## Selecting targets for visual re-inspection\n",
    "### BGS - tile 6603\n",
    "\n",
    "This notebook will merge the truth tables with Andes redrock files and select targets that need to be re-inspected, according to the following criteria:\n",
    "\n",
    "- Redrock z changed between original and new;\n",
    "- Redrock chisq or delta chisq changed by a large amount.\n",
    "- New Redrock z disagrees with visual inspections;\n",
    "- New Redrock Spec type differs from VI;\n",
    "- The VI flag was < 2.5. **N.B: I changed this to <= 2.5**\n"
   ]
  },
  {
   "cell_type": "code",
   "execution_count": 1,
   "metadata": {},
   "outputs": [],
   "source": [
    "import os, sys, glob\n",
    "import numpy as np\n",
    "\n",
    "from astropy.io import fits\n",
    "from astropy.table import Table, join, vstack\n",
    "from astropy.io import fits\n",
    "\n",
    "import pandas as pd\n",
    "import fnmatch\n",
    "\n",
    "import desispec.io\n",
    "\n",
    "sys.path.append(\"/global/homes/r/rtojeiro/SV/python\")\n",
    "import VI_utils as VI\n",
    "\n",
    "import matplotlib.pyplot as plt \n",
    "\n",
    "pd.set_option('display.max_rows', 50)"
   ]
  },
  {
   "cell_type": "raw",
   "metadata": {},
   "source": [
    "tiledir   = '/global/cfs/cdirs/desi/spectro/redux/daily/tiles/'\n",
    "tiles = ['66003']\n",
    "nights = ['20200315']\n",
    "petals = ['0','1', '2', '3', '4', '5', '6' ,'7', '8', '9']"
   ]
  },
  {
   "cell_type": "code",
   "execution_count": 2,
   "metadata": {},
   "outputs": [],
   "source": [
    "tiledir_andes='/global/cfs/cdirs/desi/spectro/redux/andes/tiles/'\n",
    "tiledir = '/global/cfs/cdirs/desi/spectro/redux/daily/tiles/'\n",
    "tile = '66003'\n",
    "date = '20200315'\n",
    "spectrograph = ['0','1', '2', '3', '4', '5', '6' ,'7', '8', '9']"
   ]
  },
  {
   "cell_type": "code",
   "execution_count": 3,
   "metadata": {},
   "outputs": [],
   "source": [
    "save_filename = 'BGS_reinspection_66003.csv'"
   ]
  },
  {
   "cell_type": "markdown",
   "metadata": {},
   "source": [
    "### Read in truth table"
   ]
  },
  {
   "cell_type": "code",
   "execution_count": 4,
   "metadata": {},
   "outputs": [],
   "source": [
    "full_filename = 'truth_table_BGS_v1.2.csv'\n",
    "truth_table = pd.read_csv(os.environ['TT_DIR']+'/'+full_filename)\n",
    "#convert from pandas DataFrame to astropy Table for ease later\n",
    "#truth_table = Table.from_pandas(df)"
   ]
  },
  {
   "cell_type": "code",
   "execution_count": 5,
   "metadata": {},
   "outputs": [
    {
     "data": {
      "text/plain": [
       "Index(['TARGETID', 'Redrock z', 'best z', 'best quality', 'Redrock spectype',\n",
       "       'best spectype', 'all VI issues', 'all VI comments', 'merger comment',\n",
       "       'N_VI', 'DELTACHI2', 'ZWARN', 'ZERR', 'FIBER', 'FLUX_G', 'FLUX_R',\n",
       "       'FLUX_Z', 'FIBERFLUX_G', 'FIBERFLUX_R', 'FIBERFLUX_Z',\n",
       "       'MW_TRANSMISSION_G', 'MW_TRANSMISSION_R', 'MW_TRANSMISSION_Z'],\n",
       "      dtype='object')"
      ]
     },
     "execution_count": 5,
     "metadata": {},
     "output_type": "execute_result"
    }
   ],
   "source": [
    "truth_table.keys()"
   ]
  },
  {
   "cell_type": "markdown",
   "metadata": {},
   "source": [
    "First, add chi2 from the original reductions, as we never added that to the truth tables"
   ]
  },
  {
   "cell_type": "code",
   "execution_count": 6,
   "metadata": {},
   "outputs": [],
   "source": [
    "#read in zbest info, loop over the files for all the spectrographs\n",
    "tspec = Table.read(tiledir+'/'+tile + '/'+date+'/zbest-'+str(spectrograph[0])+'-'+str(tile)+'-'+date+'.fits',hdu='ZBEST')\n",
    "for i in range(1,len(spectrograph)):\n",
    "    tn = Table.read(tiledir+'/'+tile + '/'+date+'/zbest-'+str(spectrograph[i])+'-'+str(tile)+'-'+date+'.fits',hdu='ZBEST')\n",
    "    tspec = vstack([tspec,tn])\n",
    "\n",
    "tspec_df = tspec['TARGETID','CHI2'].to_pandas()\n",
    "\n",
    "truth_table = truth_table.merge(tspec_df, how='left', on='TARGETID')"
   ]
  },
  {
   "cell_type": "code",
   "execution_count": 7,
   "metadata": {},
   "outputs": [
    {
     "data": {
      "text/plain": [
       "Index(['TARGETID', 'Redrock z', 'best z', 'best quality', 'Redrock spectype',\n",
       "       'best spectype', 'all VI issues', 'all VI comments', 'merger comment',\n",
       "       'N_VI', 'DELTACHI2', 'ZWARN', 'ZERR', 'FIBER', 'FLUX_G', 'FLUX_R',\n",
       "       'FLUX_Z', 'FIBERFLUX_G', 'FIBERFLUX_R', 'FIBERFLUX_Z',\n",
       "       'MW_TRANSMISSION_G', 'MW_TRANSMISSION_R', 'MW_TRANSMISSION_Z', 'CHI2'],\n",
       "      dtype='object')"
      ]
     },
     "execution_count": 7,
     "metadata": {},
     "output_type": "execute_result"
    }
   ],
   "source": [
    "truth_table.keys()"
   ]
  },
  {
   "cell_type": "markdown",
   "metadata": {},
   "source": [
    "Now add information from the Andes reductions: redshift, chi2, deltachi2, spectype and warning flags"
   ]
  },
  {
   "cell_type": "code",
   "execution_count": 8,
   "metadata": {},
   "outputs": [],
   "source": [
    "#read in zbest info, loop over the files for all the spectrographs\n",
    "tspec = Table.read(tiledir_andes+'/'+tile + '/'+date+'/zbest-'+str(spectrograph[0])+'-'+str(tile)+'-'+date+'.fits',hdu='ZBEST')\n",
    "for i in range(1,len(spectrograph)):\n",
    "    tn = Table.read(tiledir_andes+'/'+tile + '/'+date+'/zbest-'+str(spectrograph[i])+'-'+str(tile)+'-'+date+'.fits',hdu='ZBEST')\n",
    "    tspec = vstack([tspec,tn])\n",
    "\n",
    "tspec_df = tspec['TARGETID','Z','CHI2', 'DELTACHI2','ZWARN', 'ZERR', 'SPECTYPE' ].to_pandas()\n",
    "\n",
    "tspec_df = tspec_df.rename(columns={\"Z\": \"Z_andes\"})\n",
    "tspec_df = tspec_df.rename(columns={\"CHI2\": \"CHI2_andes\"})\n",
    "tspec_df = tspec_df.rename(columns={\"SPECTYPE\": \"SPECTYPE_andes\"})\n",
    "\n",
    "truth_table = truth_table.merge(tspec_df, how='left', on='TARGETID', suffixes=('', '_andes'))"
   ]
  },
  {
   "cell_type": "code",
   "execution_count": 9,
   "metadata": {},
   "outputs": [
    {
     "data": {
      "text/plain": [
       "Index(['TARGETID', 'Redrock z', 'best z', 'best quality', 'Redrock spectype',\n",
       "       'best spectype', 'all VI issues', 'all VI comments', 'merger comment',\n",
       "       'N_VI', 'DELTACHI2', 'ZWARN', 'ZERR', 'FIBER', 'FLUX_G', 'FLUX_R',\n",
       "       'FLUX_Z', 'FIBERFLUX_G', 'FIBERFLUX_R', 'FIBERFLUX_Z',\n",
       "       'MW_TRANSMISSION_G', 'MW_TRANSMISSION_R', 'MW_TRANSMISSION_Z', 'CHI2',\n",
       "       'Z_andes', 'CHI2_andes', 'DELTACHI2_andes', 'ZWARN_andes', 'ZERR_andes',\n",
       "       'SPECTYPE_andes'],\n",
       "      dtype='object')"
      ]
     },
     "execution_count": 9,
     "metadata": {},
     "output_type": "execute_result"
    }
   ],
   "source": [
    "truth_table.keys()"
   ]
  },
  {
   "cell_type": "raw",
   "metadata": {},
   "source": [
    "- Redrock z changed between original and new; (done)\n",
    "- Redrock chisq or delta chisq changed by a large amount. (done for deltachi2)\n",
    "- New Redrock z disagrees with visual inspections; (done)\n",
    "- New Redrock Spec type differs from VI; (done)\n",
    "- The VI flag was < 2.5.  (done)"
   ]
  },
  {
   "cell_type": "code",
   "execution_count": 10,
   "metadata": {},
   "outputs": [
    {
     "data": {
      "text/plain": [
       "Text(0,0.5,'DELTACHI Andes')"
      ]
     },
     "execution_count": 10,
     "metadata": {},
     "output_type": "execute_result"
    },
    {
     "data": {
      "image/png": "[encoded data removed]",
      "text/plain": [
       "<matplotlib.figure.Figure at 0x2aaae09b36a0>"
      ]
     },
     "metadata": {
      "needs_background": "light"
     },
     "output_type": "display_data"
    }
   ],
   "source": [
    "plt.figure(figsize=(10,7))\n",
    "plt.scatter(np.log10(truth_table['DELTACHI2']), np.log10(truth_table['DELTACHI2_andes']))\n",
    "plt.plot([-1,6], [-1,6], color='red')\n",
    "plt.xlabel('DELTACHI')\n",
    "plt.ylabel('DELTACHI Andes')"
   ]
  },
  {
   "cell_type": "code",
   "execution_count": 11,
   "metadata": {},
   "outputs": [
    {
     "data": {
      "text/plain": [
       "Text(0,0.5,'DELTACHI Andes')"
      ]
     },
     "execution_count": 11,
     "metadata": {},
     "output_type": "execute_result"
    },
    {
     "data": {
      "image/png": "[encoded data removed]",
      "text/plain": [
       "<matplotlib.figure.Figure at 0x2aaae0a1bef0>"
      ]
     },
     "metadata": {
      "needs_background": "light"
     },
     "output_type": "display_data"
    }
   ],
   "source": [
    "plt.figure(figsize=(10,7))\n",
    "plt.scatter(np.log10(truth_table['DELTACHI2']), \n",
    "    (np.log10(truth_table['DELTACHI2'])-np.log10(truth_table['DELTACHI2_andes'])))\n",
    "plt.plot([-1,6], [0,0], color='red')\n",
    "plt.xlabel('DELTACHI')\n",
    "plt.ylabel('DELTACHI Andes')"
   ]
  },
  {
   "cell_type": "code",
   "execution_count": 19,
   "metadata": {},
   "outputs": [
    {
     "data": {
      "text/plain": [
       "Text(0,0.5,'N')"
      ]
     },
     "execution_count": 19,
     "metadata": {},
     "output_type": "execute_result"
    },
    {
     "data": {
      "image/png": "[encoded data removed]",
      "text/plain": [
       "<matplotlib.figure.Figure at 0x2aaae1cfdc50>"
      ]
     },
     "metadata": {
      "needs_background": "light"
     },
     "output_type": "display_data"
    }
   ],
   "source": [
    "plt.figure(figsize=(10,7))\n",
    "x=plt.hist(np.log10(truth_table['DELTACHI2'])-np.log10(truth_table['DELTACHI2_andes']), bins=50,\n",
    "            range=(-0.5,0.5))\n",
    "plt.xlabel('log_delchi2 - log_deltachi2_andes')\n",
    "plt.ylabel('N')"
   ]
  },
  {
   "cell_type": "markdown",
   "metadata": {},
   "source": [
    "I'm going to include everything for which log10_deltachi2 changed by more than 0.1 in absolute value"
   ]
  },
  {
   "cell_type": "code",
   "execution_count": 13,
   "metadata": {},
   "outputs": [
    {
     "data": {
      "text/plain": [
       "Text(0,0.5,'log CHI2 Andes')"
      ]
     },
     "execution_count": 13,
     "metadata": {},
     "output_type": "execute_result"
    },
    {
     "data": {
      "image/png": "[encoded data removed]",
      "text/plain": [
       "<matplotlib.figure.Figure at 0x2aaae1c2e470>"
      ]
     },
     "metadata": {
      "needs_background": "light"
     },
     "output_type": "display_data"
    }
   ],
   "source": [
    "plt.figure(figsize=(10,7))\n",
    "plt.scatter(np.log10(truth_table['CHI2']), np.log10(truth_table['CHI2_andes']))\n",
    "plt.plot([3.8,5], [3.8,5], color='red')\n",
    "plt.xlabel('log CHI2')\n",
    "plt.ylabel('log CHI2 Andes')"
   ]
  },
  {
   "cell_type": "markdown",
   "metadata": {},
   "source": [
    "Chi2 is generally higher in Andes, so I'm **not** going to include chi2 difference between original and Andes reductions in the criteria for re-inspection."
   ]
  },
  {
   "cell_type": "code",
   "execution_count": 14,
   "metadata": {},
   "outputs": [
    {
     "name": "stdout",
     "output_type": "stream",
     "text": [
      "189\n"
     ]
    }
   ],
   "source": [
    "re_VI = truth_table[ \\\n",
    "            ((truth_table['Redrock z']-truth_table['Z_andes'])/(1+truth_table['Redrock z']) > 0.0033) | \n",
    "            ((truth_table['best z']-truth_table['Z_andes'])/(1+truth_table['best z']) > 0.0033) |\n",
    "            (truth_table['best spectype'] != truth_table['SPECTYPE_andes']) |\n",
    "            (truth_table['best quality'] <= 2.5) | \n",
    "            (np.abs(np.log10(truth_table['DELTACHI2'])-np.log10(truth_table['DELTACHI2_andes'])) > 0.1 )       \n",
    "            ]\n",
    "print(len(re_VI))"
   ]
  },
  {
   "cell_type": "code",
   "execution_count": 15,
   "metadata": {},
   "outputs": [
    {
     "data": {
      "text/plain": [
       "Index(['TARGETID', 'Redrock z', 'best z', 'best quality', 'Redrock spectype',\n",
       "       'best spectype', 'all VI issues', 'all VI comments', 'merger comment',\n",
       "       'N_VI', 'DELTACHI2', 'ZWARN', 'ZERR', 'FIBER', 'FLUX_G', 'FLUX_R',\n",
       "       'FLUX_Z', 'FIBERFLUX_G', 'FIBERFLUX_R', 'FIBERFLUX_Z',\n",
       "       'MW_TRANSMISSION_G', 'MW_TRANSMISSION_R', 'MW_TRANSMISSION_Z', 'CHI2',\n",
       "       'Z_andes', 'CHI2_andes', 'DELTACHI2_andes', 'ZWARN_andes', 'ZERR_andes',\n",
       "       'SPECTYPE_andes'],\n",
       "      dtype='object')"
      ]
     },
     "execution_count": 15,
     "metadata": {},
     "output_type": "execute_result"
    }
   ],
   "source": [
    "re_VI.keys()"
   ]
  },
  {
   "cell_type": "code",
   "execution_count": 16,
   "metadata": {},
   "outputs": [
    {
     "data": {
      "text/html": [
       "<div>\n",
       "<style scoped>\n",
       "    .dataframe tbody tr th:only-of-type {\n",
       "        vertical-align: middle;\n",
       "    }\n",
       "\n",
       "    .dataframe tbody tr th {\n",
       "        vertical-align: top;\n",
       "    }\n",
       "\n",
       "    .dataframe thead th {\n",
       "        text-align: right;\n",
       "    }\n",
       "</style>\n",
       "<table border=\"1\" class=\"dataframe\">\n",
       "  <thead>\n",
       "    <tr style=\"text-align: right;\">\n",
       "      <th></th>\n",
       "      <th>best z</th>\n",
       "      <th>Redrock z</th>\n",
       "      <th>Z_andes</th>\n",
       "      <th>best quality</th>\n",
       "      <th>best spectype</th>\n",
       "      <th>SPECTYPE_andes</th>\n",
       "    </tr>\n",
       "  </thead>\n",
       "  <tbody>\n",
       "    <tr>\n",
       "      <th>16</th>\n",
       "      <td>0.3414</td>\n",
       "      <td>0.3414</td>\n",
       "      <td>0.341389</td>\n",
       "      <td>4.000000</td>\n",
       "      <td>GALAXY</td>\n",
       "      <td>GALAXY</td>\n",
       "    </tr>\n",
       "    <tr>\n",
       "      <th>20</th>\n",
       "      <td>0.1638</td>\n",
       "      <td>0.1638</td>\n",
       "      <td>1.506403</td>\n",
       "      <td>1.000000</td>\n",
       "      <td>GALAXY</td>\n",
       "      <td>GALAXY</td>\n",
       "    </tr>\n",
       "    <tr>\n",
       "      <th>38</th>\n",
       "      <td>0.1646</td>\n",
       "      <td>0.1646</td>\n",
       "      <td>0.164635</td>\n",
       "      <td>4.000000</td>\n",
       "      <td>GALAXY</td>\n",
       "      <td>GALAXY</td>\n",
       "    </tr>\n",
       "    <tr>\n",
       "      <th>56</th>\n",
       "      <td>0.3100</td>\n",
       "      <td>0.3100</td>\n",
       "      <td>0.310036</td>\n",
       "      <td>4.000000</td>\n",
       "      <td>GALAXY</td>\n",
       "      <td>GALAXY</td>\n",
       "    </tr>\n",
       "    <tr>\n",
       "      <th>92</th>\n",
       "      <td>0.4292</td>\n",
       "      <td>0.4292</td>\n",
       "      <td>0.429248</td>\n",
       "      <td>3.666667</td>\n",
       "      <td>GALAXY</td>\n",
       "      <td>GALAXY</td>\n",
       "    </tr>\n",
       "    <tr>\n",
       "      <th>99</th>\n",
       "      <td>1.2489</td>\n",
       "      <td>1.2489</td>\n",
       "      <td>1.363550</td>\n",
       "      <td>0.000000</td>\n",
       "      <td>GALAXY</td>\n",
       "      <td>QSO</td>\n",
       "    </tr>\n",
       "    <tr>\n",
       "      <th>109</th>\n",
       "      <td>0.0650</td>\n",
       "      <td>0.0650</td>\n",
       "      <td>0.065030</td>\n",
       "      <td>4.000000</td>\n",
       "      <td>GALAXY</td>\n",
       "      <td>GALAXY</td>\n",
       "    </tr>\n",
       "    <tr>\n",
       "      <th>120</th>\n",
       "      <td>0.0974</td>\n",
       "      <td>0.0974</td>\n",
       "      <td>0.097407</td>\n",
       "      <td>4.000000</td>\n",
       "      <td>GALAXY</td>\n",
       "      <td>GALAXY</td>\n",
       "    </tr>\n",
       "    <tr>\n",
       "      <th>134</th>\n",
       "      <td>0.0913</td>\n",
       "      <td>0.4640</td>\n",
       "      <td>0.091337</td>\n",
       "      <td>1.000000</td>\n",
       "      <td>GALAXY</td>\n",
       "      <td>GALAXY</td>\n",
       "    </tr>\n",
       "    <tr>\n",
       "      <th>138</th>\n",
       "      <td>0.0631</td>\n",
       "      <td>0.0631</td>\n",
       "      <td>0.063133</td>\n",
       "      <td>4.000000</td>\n",
       "      <td>GALAXY</td>\n",
       "      <td>GALAXY</td>\n",
       "    </tr>\n",
       "    <tr>\n",
       "      <th>158</th>\n",
       "      <td>0.0929</td>\n",
       "      <td>0.0929</td>\n",
       "      <td>0.092918</td>\n",
       "      <td>3.000000</td>\n",
       "      <td>GALAXY</td>\n",
       "      <td>GALAXY</td>\n",
       "    </tr>\n",
       "    <tr>\n",
       "      <th>159</th>\n",
       "      <td>0.3136</td>\n",
       "      <td>0.5119</td>\n",
       "      <td>0.511916</td>\n",
       "      <td>1.000000</td>\n",
       "      <td>GALAXY</td>\n",
       "      <td>GALAXY</td>\n",
       "    </tr>\n",
       "    <tr>\n",
       "      <th>160</th>\n",
       "      <td>0.2620</td>\n",
       "      <td>1.1448</td>\n",
       "      <td>1.146304</td>\n",
       "      <td>3.666667</td>\n",
       "      <td>GALAXY</td>\n",
       "      <td>GALAXY</td>\n",
       "    </tr>\n",
       "    <tr>\n",
       "      <th>163</th>\n",
       "      <td>0.2616</td>\n",
       "      <td>0.2616</td>\n",
       "      <td>0.261573</td>\n",
       "      <td>4.000000</td>\n",
       "      <td>GALAXY</td>\n",
       "      <td>GALAXY</td>\n",
       "    </tr>\n",
       "    <tr>\n",
       "      <th>164</th>\n",
       "      <td>0.2616</td>\n",
       "      <td>0.2616</td>\n",
       "      <td>0.261583</td>\n",
       "      <td>4.000000</td>\n",
       "      <td>GALAXY</td>\n",
       "      <td>GALAXY</td>\n",
       "    </tr>\n",
       "    <tr>\n",
       "      <th>180</th>\n",
       "      <td>0.0714</td>\n",
       "      <td>0.6461</td>\n",
       "      <td>0.510553</td>\n",
       "      <td>3.000000</td>\n",
       "      <td>GALAXY</td>\n",
       "      <td>GALAXY</td>\n",
       "    </tr>\n",
       "    <tr>\n",
       "      <th>196</th>\n",
       "      <td>0.2353</td>\n",
       "      <td>0.2353</td>\n",
       "      <td>0.235348</td>\n",
       "      <td>4.000000</td>\n",
       "      <td>GALAXY</td>\n",
       "      <td>GALAXY</td>\n",
       "    </tr>\n",
       "    <tr>\n",
       "      <th>197</th>\n",
       "      <td>0.2549</td>\n",
       "      <td>0.2549</td>\n",
       "      <td>0.254894</td>\n",
       "      <td>4.000000</td>\n",
       "      <td>GALAXY</td>\n",
       "      <td>GALAXY</td>\n",
       "    </tr>\n",
       "    <tr>\n",
       "      <th>199</th>\n",
       "      <td>0.3015</td>\n",
       "      <td>0.3015</td>\n",
       "      <td>0.301385</td>\n",
       "      <td>4.000000</td>\n",
       "      <td>GALAXY</td>\n",
       "      <td>GALAXY</td>\n",
       "    </tr>\n",
       "    <tr>\n",
       "      <th>201</th>\n",
       "      <td>0.3147</td>\n",
       "      <td>0.3147</td>\n",
       "      <td>0.314699</td>\n",
       "      <td>4.000000</td>\n",
       "      <td>GALAXY</td>\n",
       "      <td>GALAXY</td>\n",
       "    </tr>\n",
       "    <tr>\n",
       "      <th>202</th>\n",
       "      <td>0.2557</td>\n",
       "      <td>0.2557</td>\n",
       "      <td>0.255667</td>\n",
       "      <td>4.000000</td>\n",
       "      <td>GALAXY</td>\n",
       "      <td>GALAXY</td>\n",
       "    </tr>\n",
       "    <tr>\n",
       "      <th>213</th>\n",
       "      <td>0.1456</td>\n",
       "      <td>0.0940</td>\n",
       "      <td>0.094023</td>\n",
       "      <td>4.000000</td>\n",
       "      <td>GALAXY</td>\n",
       "      <td>GALAXY</td>\n",
       "    </tr>\n",
       "    <tr>\n",
       "      <th>219</th>\n",
       "      <td>0.0822</td>\n",
       "      <td>0.0822</td>\n",
       "      <td>0.082193</td>\n",
       "      <td>4.000000</td>\n",
       "      <td>GALAXY</td>\n",
       "      <td>GALAXY</td>\n",
       "    </tr>\n",
       "    <tr>\n",
       "      <th>226</th>\n",
       "      <td>0.1066</td>\n",
       "      <td>0.1066</td>\n",
       "      <td>0.106589</td>\n",
       "      <td>0.333333</td>\n",
       "      <td>GALAXY</td>\n",
       "      <td>GALAXY</td>\n",
       "    </tr>\n",
       "    <tr>\n",
       "      <th>233</th>\n",
       "      <td>0.1280</td>\n",
       "      <td>0.1280</td>\n",
       "      <td>0.128038</td>\n",
       "      <td>2.333333</td>\n",
       "      <td>GALAXY</td>\n",
       "      <td>GALAXY</td>\n",
       "    </tr>\n",
       "    <tr>\n",
       "      <th>...</th>\n",
       "      <td>...</td>\n",
       "      <td>...</td>\n",
       "      <td>...</td>\n",
       "      <td>...</td>\n",
       "      <td>...</td>\n",
       "      <td>...</td>\n",
       "    </tr>\n",
       "    <tr>\n",
       "      <th>1910</th>\n",
       "      <td>0.1568</td>\n",
       "      <td>0.1568</td>\n",
       "      <td>0.156773</td>\n",
       "      <td>4.000000</td>\n",
       "      <td>GALAXY</td>\n",
       "      <td>GALAXY</td>\n",
       "    </tr>\n",
       "    <tr>\n",
       "      <th>1932</th>\n",
       "      <td>0.5157</td>\n",
       "      <td>0.5157</td>\n",
       "      <td>0.515696</td>\n",
       "      <td>3.333333</td>\n",
       "      <td>GALAXY</td>\n",
       "      <td>GALAXY</td>\n",
       "    </tr>\n",
       "    <tr>\n",
       "      <th>1948</th>\n",
       "      <td>0.7083</td>\n",
       "      <td>0.7083</td>\n",
       "      <td>0.708233</td>\n",
       "      <td>2.500000</td>\n",
       "      <td>GALAXY</td>\n",
       "      <td>GALAXY</td>\n",
       "    </tr>\n",
       "    <tr>\n",
       "      <th>1966</th>\n",
       "      <td>0.3452</td>\n",
       "      <td>1.3728</td>\n",
       "      <td>1.368591</td>\n",
       "      <td>3.000000</td>\n",
       "      <td>GALAXY</td>\n",
       "      <td>GALAXY</td>\n",
       "    </tr>\n",
       "    <tr>\n",
       "      <th>1976</th>\n",
       "      <td>0.3970</td>\n",
       "      <td>0.3970</td>\n",
       "      <td>0.397061</td>\n",
       "      <td>3.000000</td>\n",
       "      <td>GALAXY</td>\n",
       "      <td>GALAXY</td>\n",
       "    </tr>\n",
       "    <tr>\n",
       "      <th>1977</th>\n",
       "      <td>0.1054</td>\n",
       "      <td>0.1054</td>\n",
       "      <td>0.105366</td>\n",
       "      <td>3.750000</td>\n",
       "      <td>GALAXY</td>\n",
       "      <td>GALAXY</td>\n",
       "    </tr>\n",
       "    <tr>\n",
       "      <th>1978</th>\n",
       "      <td>0.3196</td>\n",
       "      <td>0.3196</td>\n",
       "      <td>0.319582</td>\n",
       "      <td>4.000000</td>\n",
       "      <td>GALAXY</td>\n",
       "      <td>GALAXY</td>\n",
       "    </tr>\n",
       "    <tr>\n",
       "      <th>1979</th>\n",
       "      <td>0.4945</td>\n",
       "      <td>0.4945</td>\n",
       "      <td>0.000418</td>\n",
       "      <td>1.000000</td>\n",
       "      <td>GALAXY</td>\n",
       "      <td>GALAXY</td>\n",
       "    </tr>\n",
       "    <tr>\n",
       "      <th>1980</th>\n",
       "      <td>0.3391</td>\n",
       "      <td>0.5200</td>\n",
       "      <td>0.338842</td>\n",
       "      <td>2.000000</td>\n",
       "      <td>GALAXY</td>\n",
       "      <td>GALAXY</td>\n",
       "    </tr>\n",
       "    <tr>\n",
       "      <th>1982</th>\n",
       "      <td>0.0194</td>\n",
       "      <td>0.0194</td>\n",
       "      <td>0.019358</td>\n",
       "      <td>2.000000</td>\n",
       "      <td>GALAXY</td>\n",
       "      <td>GALAXY</td>\n",
       "    </tr>\n",
       "    <tr>\n",
       "      <th>1983</th>\n",
       "      <td>0.3971</td>\n",
       "      <td>0.3971</td>\n",
       "      <td>0.397099</td>\n",
       "      <td>4.000000</td>\n",
       "      <td>GALAXY</td>\n",
       "      <td>GALAXY</td>\n",
       "    </tr>\n",
       "    <tr>\n",
       "      <th>1984</th>\n",
       "      <td>0.3164</td>\n",
       "      <td>0.3164</td>\n",
       "      <td>0.316334</td>\n",
       "      <td>4.000000</td>\n",
       "      <td>GALAXY</td>\n",
       "      <td>GALAXY</td>\n",
       "    </tr>\n",
       "    <tr>\n",
       "      <th>1986</th>\n",
       "      <td>0.6836</td>\n",
       "      <td>0.6836</td>\n",
       "      <td>0.421062</td>\n",
       "      <td>2.000000</td>\n",
       "      <td>GALAXY</td>\n",
       "      <td>GALAXY</td>\n",
       "    </tr>\n",
       "    <tr>\n",
       "      <th>1988</th>\n",
       "      <td>0.3204</td>\n",
       "      <td>0.5249</td>\n",
       "      <td>0.319615</td>\n",
       "      <td>2.000000</td>\n",
       "      <td>GALAXY</td>\n",
       "      <td>GALAXY</td>\n",
       "    </tr>\n",
       "    <tr>\n",
       "      <th>1989</th>\n",
       "      <td>0.3395</td>\n",
       "      <td>0.3395</td>\n",
       "      <td>0.339653</td>\n",
       "      <td>3.750000</td>\n",
       "      <td>GALAXY</td>\n",
       "      <td>GALAXY</td>\n",
       "    </tr>\n",
       "    <tr>\n",
       "      <th>1992</th>\n",
       "      <td>0.2207</td>\n",
       "      <td>0.4957</td>\n",
       "      <td>0.220515</td>\n",
       "      <td>3.500000</td>\n",
       "      <td>GALAXY</td>\n",
       "      <td>GALAXY</td>\n",
       "    </tr>\n",
       "    <tr>\n",
       "      <th>1997</th>\n",
       "      <td>0.1974</td>\n",
       "      <td>0.1974</td>\n",
       "      <td>0.197413</td>\n",
       "      <td>4.000000</td>\n",
       "      <td>GALAXY</td>\n",
       "      <td>GALAXY</td>\n",
       "    </tr>\n",
       "    <tr>\n",
       "      <th>2003</th>\n",
       "      <td>0.2973</td>\n",
       "      <td>0.2973</td>\n",
       "      <td>0.297352</td>\n",
       "      <td>3.000000</td>\n",
       "      <td>GALAXY</td>\n",
       "      <td>GALAXY</td>\n",
       "    </tr>\n",
       "    <tr>\n",
       "      <th>2025</th>\n",
       "      <td>0.4907</td>\n",
       "      <td>0.4907</td>\n",
       "      <td>0.490755</td>\n",
       "      <td>4.000000</td>\n",
       "      <td>QSO</td>\n",
       "      <td>GALAXY</td>\n",
       "    </tr>\n",
       "    <tr>\n",
       "      <th>2039</th>\n",
       "      <td>0.1107</td>\n",
       "      <td>0.1107</td>\n",
       "      <td>0.110660</td>\n",
       "      <td>4.000000</td>\n",
       "      <td>GALAXY</td>\n",
       "      <td>GALAXY</td>\n",
       "    </tr>\n",
       "    <tr>\n",
       "      <th>2115</th>\n",
       "      <td>0.2369</td>\n",
       "      <td>1.5465</td>\n",
       "      <td>1.546519</td>\n",
       "      <td>3.000000</td>\n",
       "      <td>GALAXY</td>\n",
       "      <td>GALAXY</td>\n",
       "    </tr>\n",
       "    <tr>\n",
       "      <th>2125</th>\n",
       "      <td>0.4628</td>\n",
       "      <td>0.4628</td>\n",
       "      <td>0.462785</td>\n",
       "      <td>3.750000</td>\n",
       "      <td>GALAXY</td>\n",
       "      <td>GALAXY</td>\n",
       "    </tr>\n",
       "    <tr>\n",
       "      <th>2135</th>\n",
       "      <td>0.2080</td>\n",
       "      <td>0.2080</td>\n",
       "      <td>0.208038</td>\n",
       "      <td>4.000000</td>\n",
       "      <td>GALAXY</td>\n",
       "      <td>GALAXY</td>\n",
       "    </tr>\n",
       "    <tr>\n",
       "      <th>2142</th>\n",
       "      <td>0.1056</td>\n",
       "      <td>0.1056</td>\n",
       "      <td>0.105606</td>\n",
       "      <td>3.500000</td>\n",
       "      <td>GALAXY</td>\n",
       "      <td>GALAXY</td>\n",
       "    </tr>\n",
       "    <tr>\n",
       "      <th>2222</th>\n",
       "      <td>0.1993</td>\n",
       "      <td>1.4689</td>\n",
       "      <td>0.199318</td>\n",
       "      <td>4.000000</td>\n",
       "      <td>GALAXY</td>\n",
       "      <td>GALAXY</td>\n",
       "    </tr>\n",
       "  </tbody>\n",
       "</table>\n",
       "<p>189 rows × 6 columns</p>\n",
       "</div>"
      ],
      "text/plain": [
       "      best z  Redrock z   Z_andes  best quality best spectype SPECTYPE_andes\n",
       "16    0.3414     0.3414  0.341389      4.000000        GALAXY         GALAXY\n",
       "20    0.1638     0.1638  1.506403      1.000000        GALAXY         GALAXY\n",
       "38    0.1646     0.1646  0.164635      4.000000        GALAXY         GALAXY\n",
       "56    0.3100     0.3100  0.310036      4.000000        GALAXY         GALAXY\n",
       "92    0.4292     0.4292  0.429248      3.666667        GALAXY         GALAXY\n",
       "...      ...        ...       ...           ...           ...            ...\n",
       "2115  0.2369     1.5465  1.546519      3.000000        GALAXY         GALAXY\n",
       "2125  0.4628     0.4628  0.462785      3.750000        GALAXY         GALAXY\n",
       "2135  0.2080     0.2080  0.208038      4.000000        GALAXY         GALAXY\n",
       "2142  0.1056     0.1056  0.105606      3.500000        GALAXY         GALAXY\n",
       "2222  0.1993     1.4689  0.199318      4.000000        GALAXY         GALAXY\n",
       "\n",
       "[189 rows x 6 columns]"
      ]
     },
     "execution_count": 16,
     "metadata": {},
     "output_type": "execute_result"
    }
   ],
   "source": [
    "re_VI[['best z', 'Redrock z', 'Z_andes', 'best quality', 'best spectype', 'SPECTYPE_andes']]"
   ]
  },
  {
   "cell_type": "markdown",
   "metadata": {},
   "source": [
    "Save to file"
   ]
  },
  {
   "cell_type": "code",
   "execution_count": 17,
   "metadata": {},
   "outputs": [],
   "source": [
    "re_VI['TARGETID'].to_csv(os.environ['TT_DIR']+save_filename, index=False, header=False)"
   ]
  },
  {
   "cell_type": "code",
   "execution_count": 18,
   "metadata": {},
   "outputs": [
    {
     "data": {
      "text/plain": [
       "16      35191341457606988\n",
       "20      35191341457608318\n",
       "38      35191341461802014\n",
       "56      35191341465996155\n",
       "92      35191341478577368\n",
       "              ...        \n",
       "2115    35191360105480318\n",
       "2125    35191363096019097\n",
       "2135    35191363104409484\n",
       "2142    35191363104410851\n",
       "2222    35191366107529267\n",
       "Name: TARGETID, Length: 189, dtype: int64"
      ]
     },
     "execution_count": 18,
     "metadata": {},
     "output_type": "execute_result"
    }
   ],
   "source": [
    "re_VI['TARGETID']"
   ]
  },
  {
   "cell_type": "code",
   "execution_count": null,
   "metadata": {},
   "outputs": [],
   "source": []
  }
 ],
 "metadata": {
  "kernelspec": {
   "display_name": "my DESI 19.10",
   "language": "python",
   "name": "desi-19.10"
  },
  "language_info": {
   "codemirror_mode": {
    "name": "ipython",
    "version": 3
   },
   "file_extension": ".py",
   "mimetype": "text/x-python",
   "name": "python",
   "nbconvert_exporter": "python",
   "pygments_lexer": "ipython3",
   "version": "3.6.6"
  }
 },
 "nbformat": 4,
 "nbformat_minor": 4
}
