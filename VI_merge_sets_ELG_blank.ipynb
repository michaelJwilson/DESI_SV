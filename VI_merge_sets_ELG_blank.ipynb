{
 "cells": [
  {
   "cell_type": "markdown",
   "metadata": {},
   "source": [
    "## Identifying and resolving conflicts in a batch of VI files"
   ]
  },
  {
   "cell_type": "markdown",
   "metadata": {},
   "source": [
    "ELGs - part x is sets xx to xx\n",
    "\n",
    "There are xxx visual inspections of a total of xxx unique objects\n",
    "xx inspections per object.\n",
    "\n",
    "xx conflicts"
   ]
  },
  {
   "cell_type": "code",
   "execution_count": 1,
   "metadata": {},
   "outputs": [
    {
     "ename": "SyntaxError",
     "evalue": "invalid syntax (<ipython-input-1-0414865cf7b9>, line 1)",
     "output_type": "error",
     "traceback": [
      "\u001b[0;36m  File \u001b[0;32m\"<ipython-input-1-0414865cf7b9>\"\u001b[0;36m, line \u001b[0;32m1\u001b[0m\n\u001b[0;31m    save_filename=\u001b[0m\n\u001b[0m                  ^\u001b[0m\n\u001b[0;31mSyntaxError\u001b[0m\u001b[0;31m:\u001b[0m invalid syntax\n"
     ]
    }
   ],
   "source": [
    "save_filename="
   ]
  },
  {
   "cell_type": "code",
   "execution_count": 1,
   "metadata": {},
   "outputs": [],
   "source": [
    "import os, sys, glob\n",
    "import numpy as np\n",
    "\n",
    "from astropy.io import fits\n",
    "from astropy.table import Table, join, vstack\n",
    "from astropy.io import fits\n",
    "\n",
    "import pandas as pd\n",
    "import fnmatch\n",
    "\n",
    "import desispec.io\n",
    "\n",
    "sys.path.append(\"/global/homes/r/rtojeiro/SV/python\")\n",
    "import VI_utils as VI\n",
    "\n",
    "#import desispec\n",
    "# library location will change ..\n",
    "sys.path.append(\"/global/homes/r/rtojeiro/prospect/prospect/py\")\n",
    "from prospect import utils_specviewer,plotframes\n",
    "import matplotlib.pyplot as plt "
   ]
  },
  {
   "cell_type": "code",
   "execution_count": 2,
   "metadata": {},
   "outputs": [],
   "source": [
    "tiledir   = '/global/cfs/cdirs/desi/spectro/redux/daily/tiles/'\n",
    "tiles = ['67230']\n",
    "nights = ['20200315']\n",
    "petals = ['0','1', '2', '3', '4', '5', '6' ,'7', '8', '9']\n",
    "obs_db = utils_specviewer.make_targetdict(tiledir, petals=petals, tiles=tiles) # tiles = optional \n",
    "del obs_db['67230-20200314']\n",
    "obs_db.keys()"
   ]
  },
  {
   "cell_type": "code",
   "execution_count": 3,
   "metadata": {},
   "outputs": [],
   "source": [
    "pd.set_option('display.max_rows', 20)"
   ]
  },
  {
   "cell_type": "code",
   "execution_count": 4,
   "metadata": {},
   "outputs": [],
   "source": [
    "#set to directory with all the VI files to merge\n",
    "VI_dir = os.environ['HOME']+'/SV/VI_files/SV0/ELG/'"
   ]
  },
  {
   "cell_type": "code",
   "execution_count": 5,
   "metadata": {},
   "outputs": [
    {
     "name": "stdout",
     "output_type": "stream",
     "text": [
      "desi*_11_*.csv\n",
      "desi*_12_*.csv\n",
      "desi*_13_*.csv\n",
      "desi*_14_*.csv\n",
      "desi*_15_*.csv\n"
     ]
    },
    {
     "data": {
      "text/plain": [
       "['desi-vi_SV0_ELG_tile67230_night20200315_11_BJW.csv',\n",
       " 'desi-vi_SV0_ELG_tile67230_night20200315_11_CGS.csv',\n",
       " 'desi-vi_SV0_ELG_tile67230_night20200315_11_VRK.csv',\n",
       " 'desi-vi_SV0_ELG_tile67230_night20200315_12_DRP.csv',\n",
       " 'desi-vi_SV0_ELG_tile67230_night20200315_12_TWL.csv',\n",
       " 'desi-vi_SV0_ELG_tile67230_night20200315_12_VRK.csv',\n",
       " 'desi-vi_SV0_ELG_tile67230_night20200315_13_TWL.csv',\n",
       " 'desi-vi_SV0_ELG_tile67230_night20200315_13_CGS.csv',\n",
       " 'desi-vi_SV0_ELG_tile67230_night20200315_13_DRP.csv',\n",
       " 'desi-vi_SV0_ELG_tile67230_night20200315_14_DRP.csv',\n",
       " 'desi-vi_SV0_ELG_tile67230_night20200315_14_BLH.csv',\n",
       " 'desi-vi_SV0_ELG_tile67230_night20200315_14_TWL.csv',\n",
       " 'desi-vi_SV0_ELG_tile67230_night20200315_15_TWL.csv',\n",
       " 'desi-vi_SV0_ELG_tile67230_night20200315_15_DRP.csv',\n",
       " 'desi-vi_SV0_ELG_tile67230_night20200315_15_BJW.csv']"
      ]
     },
     "execution_count": 5,
     "metadata": {},
     "output_type": "execute_result"
    }
   ],
   "source": [
    "#read a set of files \n",
    "all_files = os.listdir(VI_dir)\n",
    "vi_files=[]\n",
    "\n",
    "for i in range(11,16):\n",
    "    pattern = \"desi*_\"+str(i)+\"_*.csv\"\n",
    "    print(pattern)\n",
    "    for entry in all_files:\n",
    "        if fnmatch.fnmatch(entry, pattern):\n",
    "            vi_files.append(entry)\n",
    "\n",
    "vi_files"
   ]
  },
  {
   "cell_type": "raw",
   "metadata": {},
   "source": [
    "#we will read all the *.csv files in this directory. Change as needed.\n",
    "\n",
    "all_files = os.listdir(VI_dir)\n",
    "vi_files=[]\n",
    "\n",
    "pattern = \"desi*.csv\"\n",
    "for entry in all_files:\n",
    "    if fnmatch.fnmatch(entry, pattern):\n",
    "            vi_files.append(entry)\n",
    "            \n",
    "vi_files"
   ]
  },
  {
   "cell_type": "code",
   "execution_count": 6,
   "metadata": {},
   "outputs": [
    {
     "name": "stdout",
     "output_type": "stream",
     "text": [
      "desi-vi_SV0_ELG_tile67230_night20200315_11_CGS.csv\n",
      "desi-vi_SV0_ELG_tile67230_night20200315_11_VRK.csv\n",
      "desi-vi_SV0_ELG_tile67230_night20200315_12_DRP.csv\n",
      "desi-vi_SV0_ELG_tile67230_night20200315_12_TWL.csv\n",
      "desi-vi_SV0_ELG_tile67230_night20200315_12_VRK.csv\n",
      "desi-vi_SV0_ELG_tile67230_night20200315_13_TWL.csv\n",
      "desi-vi_SV0_ELG_tile67230_night20200315_13_CGS.csv\n",
      "desi-vi_SV0_ELG_tile67230_night20200315_13_DRP.csv\n",
      "desi-vi_SV0_ELG_tile67230_night20200315_14_DRP.csv\n",
      "desi-vi_SV0_ELG_tile67230_night20200315_14_BLH.csv\n",
      "desi-vi_SV0_ELG_tile67230_night20200315_14_TWL.csv\n",
      "desi-vi_SV0_ELG_tile67230_night20200315_15_TWL.csv\n",
      "desi-vi_SV0_ELG_tile67230_night20200315_15_DRP.csv\n",
      "desi-vi_SV0_ELG_tile67230_night20200315_15_BJW.csv\n",
      "There are 750 visual inspections of a total of 250 unique objects\n",
      "That gives 3.0 inspections per object.\n"
     ]
    }
   ],
   "source": [
    "vi = pd.read_csv(VI_dir + vi_files[0], delimiter = \" , \", engine='python')\n",
    "\n",
    "for i in range(1,len(vi_files)):\n",
    "    print(vi_files[i])\n",
    "    vi2 = pd.read_csv(VI_dir + vi_files[i], delimiter = \" , \", engine='python')\n",
    "    vi = vi.append(vi2, ignore_index=True)\n",
    "    \n",
    "#make groups of visual inspections, grouped by unique objects, and state number of single and multiple VIs\n",
    "vi_gp = vi.groupby(['TargetID'])\n",
    "print('There are ' + str(len(vi)) + ' visual inspections of a total of ' + str(len(vi_gp)) + ' unique objects')\n",
    "print('That gives ' + str(len(vi)/len(vi_gp)) + ' inspections per object.')"
   ]
  },
  {
   "cell_type": "raw",
   "metadata": {},
   "source": [
    "#vi is a dataframe\n",
    "display(vi)"
   ]
  },
  {
   "cell_type": "code",
   "execution_count": 7,
   "metadata": {},
   "outputs": [
    {
     "data": {
      "text/plain": [
       "Index(['TargetID', 'ExpID', 'Spec version', 'Redrock version',\n",
       "       'Redrock spectype', 'Redrock z', 'VI scanner', 'VI class', 'VI issue',\n",
       "       'VI z', 'VI spectype', 'VI comment'],\n",
       "      dtype='object')"
      ]
     },
     "execution_count": 7,
     "metadata": {},
     "output_type": "execute_result"
    }
   ],
   "source": [
    "vi.keys()"
   ]
  },
  {
   "cell_type": "markdown",
   "metadata": {},
   "source": [
    "### Merge with zbest files\n",
    "Add: fiberID, delta_chi2, flux information,.. anything else?\n"
   ]
  },
  {
   "cell_type": "code",
   "execution_count": 8,
   "metadata": {},
   "outputs": [],
   "source": [
    "\n",
    "#read in fibermap info, loop over the files for all the petals\n",
    "tf = Table.read(tiledir+'/'+tiles[0] + '/'+nights[0]+'/zbest-'+str(petals[0])+'-'+str(tiles[0])+'-'+nights[0]+'.fits',hdu='FIBERMAP')\n",
    "tspec = Table.read(tiledir+'/'+tiles[0] + '/'+nights[0]+'/zbest-'+str(petals[0])+'-'+str(tiles[0])+'-'+nights[0]+'.fits',hdu='ZBEST')\n",
    "for i in range(1,len(petals)):\n",
    "    tn = Table.read(tiledir+'/'+tiles[0] + '/'+nights[0]+'/zbest-'+str(petals[i])+'-'+str(tiles[0])+'-'+nights[0]+'.fits',hdu='ZBEST')\n",
    "    tnf = Table.read(tiledir+'/'+tiles[0] + '/'+nights[0]+'/zbest-'+str(petals[i])+'-'+str(tiles[0])+'-'+nights[0]+'.fits',hdu='FIBERMAP')\n",
    "    tspec = vstack([tspec,tn])\n",
    "    tf = vstack([tf,tnf])\n",
    "\n",
    "tspec_df = tspec['TARGETID','DELTACHI2' ].to_pandas()\n",
    "tf_df = tf['TARGETID','FIBER','FLUX_G','FLUX_R','FLUX_Z','FIBERFLUX_G','FIBERFLUX_R','FIBERFLUX_Z'].to_pandas()\n",
    "\n",
    "tf_df = tf_df.rename(columns={\"TARGETID\": \"TargetID\"})\n",
    "tspec_df = tspec_df.rename(columns={\"TARGETID\": \"TargetID\"})\n",
    "\n",
    "vi = vi.merge(tf_df, how='left', on='TargetID')\n",
    "vi = vi.merge(tspec_df, how='left', on='TargetID')"
   ]
  },
  {
   "cell_type": "code",
   "execution_count": 9,
   "metadata": {},
   "outputs": [
    {
     "name": "stdout",
     "output_type": "stream",
     "text": [
      "Index(['TargetID', 'ExpID', 'Spec version', 'Redrock version',\n",
      "       'Redrock spectype', 'Redrock z', 'VI scanner', 'VI class', 'VI issue',\n",
      "       'VI z', 'VI spectype', 'VI comment', 'FIBER', 'FLUX_G', 'FLUX_R',\n",
      "       'FLUX_Z', 'FIBERFLUX_G', 'FIBERFLUX_R', 'FIBERFLUX_Z', 'DELTACHI2'],\n",
      "      dtype='object')\n",
      "750\n"
     ]
    }
   ],
   "source": [
    "print(vi.keys())\n",
    "print(len(vi))"
   ]
  },
  {
   "cell_type": "markdown",
   "metadata": {},
   "source": [
    "### Adding a bunch of useful columns"
   ]
  },
  {
   "cell_type": "code",
   "execution_count": null,
   "metadata": {},
   "outputs": [],
   "source": [
    "vi = VI.prep_new_columns(vi)"
   ]
  },
  {
   "cell_type": "code",
   "execution_count": null,
   "metadata": {},
   "outputs": [],
   "source": []
  },
  {
   "cell_type": "raw",
   "metadata": {},
   "source": [
    "#check all the new columns (keys) have been added correctly\n",
    "display(vi)\n",
    "print(vi.keys())"
   ]
  },
  {
   "cell_type": "markdown",
   "metadata": {},
   "source": [
    "Get a table that holds only the objects that have been inspected more than once, and for which the individual VI classifications differ by 2 or more, or delta z / (1 + z) > 0.0033, or there is disagreement in best spectype (these are the conflicts to resolve)"
   ]
  },
  {
   "cell_type": "code",
   "execution_count": 18,
   "metadata": {},
   "outputs": [],
   "source": [
    "vi_gp = vi.groupby(['TargetID'])\n",
    "vi_conflict = VI.find_conflicts(vi_gp)"
   ]
  },
  {
   "cell_type": "code",
   "execution_count": null,
   "metadata": {},
   "outputs": [],
   "source": []
  },
  {
   "cell_type": "markdown",
   "metadata": {},
   "source": [
    "Get the target IDs of the problematic objects and display in table form for a quick summary:"
   ]
  },
  {
   "cell_type": "code",
   "execution_count": 19,
   "metadata": {},
   "outputs": [
    {
     "name": "stdout",
     "output_type": "stream",
     "text": [
      "Targets with problematic VI:  [35185754028118049 35185754028118319 35185754032309199 35185754032309750\n",
      " 35185754032310573 35185754032310703 35185754032313260 35185754036502670\n",
      " 35185754036503154 35185754036503775 35185754036503778 35185754036503929\n",
      " 35185754036503964 35185754036504236 35185754036504971 35185754036505256\n",
      " 35185754036505827 35185754036506000 35185754036506049 35185754040697856\n",
      " 35185754040698036 35185754040698310 35185754040699512 35185754040699533\n",
      " 35185754040699635 35185754040700128 35185754040700397 35185754040700421\n",
      " 35185754040700555 35185754040700578 35185754040700862 35185754040701930\n",
      " 35185754044891804 35185754044892011 35185754044892719 35185754044893397\n",
      " 35185754044893490 35185754044894142 35185754044894357 35185754044894937\n",
      " 35185754044895452 35185754044895763 35185754049088211 35185754053281072\n",
      " 35185754053282143 35185754053282660 35185754053283933 35185754053284109\n",
      " 35185754053284658 35185754057474179 35185754057475373 35185754057475889\n",
      " 35185754057477287 35185754057477975 35185754057477995 35185754057478517\n",
      " 35185754057478722 35185754061670527 35185754061670674 35185754061671838\n",
      " 35185754065867752 35185760059523574 35185760059523591 35185760059523701\n",
      " 35185760059524481 35185760063717666 35185760063718971 35185760063720182\n",
      " 35185760063720299 35185760063720839 35185760063720985 35185760063721474\n",
      " 35185760067913133 35185760067913677 35185760067913744 35185760067914129\n",
      " 35185760067914335 35185760067914470 35185760067915063 35185760067915894\n",
      " 35185760072106551]\n",
      "Total number of conflicts to resolve:  81\n"
     ]
    }
   ],
   "source": [
    "unique_targets = np.unique(vi_conflict['TargetID'].tolist())\n",
    "print('Targets with problematic VI: ', unique_targets)\n",
    "print('Total number of conflicts to resolve: ', len(unique_targets))"
   ]
  },
  {
   "cell_type": "code",
   "execution_count": null,
   "metadata": {},
   "outputs": [],
   "source": []
  },
  {
   "cell_type": "raw",
   "metadata": {
    "jupyter": {
     "outputs_hidden": true
    }
   },
   "source": [
    "for i in range(len(unique_targets)): \n",
    "    display(vi[vi.TargetID==unique_targets[i].astype(float)])"
   ]
  },
  {
   "cell_type": "markdown",
   "metadata": {},
   "source": [
    "## This is where I resolve things manually - with care!!\n",
    "### I think it's better to keep it in a notebook, as typos can be backtracked rather than a single manual edit of a text file\n",
    "\n",
    "We edit either 'VI class', or 'best redshift' to resolve conflict. At the end, we look for conflicts again and we should find none.\n"
   ]
  },
  {
   "cell_type": "code",
   "execution_count": 21,
   "metadata": {},
   "outputs": [],
   "source": [
    "#function to display the conflict in table format and open a prospect window\n",
    "def display_conflict(conflict_id, show_spectra=None):\n",
    "    \n",
    "    #first, remind myself of the problem:\n",
    "    display(vi[vi.TargetID==unique_targets[conflict_id]][['TargetID', \n",
    "       'Redrock spectype', 'Redrock z', 'VI scanner', 'VI class', 'VI issue',\n",
    "       'VI z', 'VI spectype', 'VI comment',\n",
    "       'best redshift', 'best spectype', 'vi_combined_flag', 'vi_diff',\n",
    "       'vi_combined_z', 'dz', 'all VI comments', 'N_VI', 'merger comment']])\n",
    "\n",
    "    # VI interface in notebook\n",
    "    if show_spectra:\n",
    "        spectra, zcat= utils_specviewer.load_spectra_zcat_from_targets([unique_targets[conflict_id]], tiledir, obs_db)\n",
    "        plotframes.plotspectra(spectra, zcatalog=zcat, title='Target_select', notebook=True, mask_type='CMX_TARGET',with_vi_widgets=False)"
   ]
  },
  {
   "cell_type": "code",
   "execution_count": 22,
   "metadata": {},
   "outputs": [],
   "source": [
    "#first, keep a safe copy of the original dataframe\n",
    "vi_safe = vi.copy()"
   ]
  },
  {
   "cell_type": "markdown",
   "metadata": {},
   "source": [
    "We will inspect each conflict on a prospect window, and resolve each conflict in turn"
   ]
  },
  {
   "cell_type": "raw",
   "metadata": {},
   "source": [
    "#copy this text to a new cell to display the conflict\n",
    "conflict_id=\n",
    "display_conflict(conflict_id, show_spectra=True)\n",
    "\n",
    "========\n",
    "#copy this text to a new cell to resolve the conflict\n",
    "vi.loc[vi.TargetID==unique_targets[conflict_id], 'best redshift'] = \n",
    "vi.loc[vi.TargetID==unique_targets[conflict_id], 'VI class'] = \n",
    "vi.loc[vi.TargetID==unique_targets[conflict_id], 'best spectype'] = \n",
    "\n",
    "#add a comment\n",
    "vi.loc[vi.TargetID==unique_targets[conflict_id], 'merger comment'] = \n",
    "\n",
    "#look at the values again to make sure all is well\n",
    "print('conflict ID = ', conflict_id)\n",
    "display(vi[vi.TargetID==unique_targets[conflict_id]])"
   ]
  },
  {
   "cell_type": "code",
   "execution_count": 23,
   "metadata": {},
   "outputs": [
    {
     "data": {
      "text/html": [
       "<div>\n",
       "<style scoped>\n",
       "    .dataframe tbody tr th:only-of-type {\n",
       "        vertical-align: middle;\n",
       "    }\n",
       "\n",
       "    .dataframe tbody tr th {\n",
       "        vertical-align: top;\n",
       "    }\n",
       "\n",
       "    .dataframe thead th {\n",
       "        text-align: right;\n",
       "    }\n",
       "</style>\n",
       "<table border=\"1\" class=\"dataframe\">\n",
       "  <thead>\n",
       "    <tr style=\"text-align: right;\">\n",
       "      <th></th>\n",
       "      <th>TargetID</th>\n",
       "      <th>Redrock spectype</th>\n",
       "      <th>Redrock z</th>\n",
       "      <th>VI scanner</th>\n",
       "      <th>VI class</th>\n",
       "      <th>VI issue</th>\n",
       "      <th>VI z</th>\n",
       "      <th>VI spectype</th>\n",
       "      <th>VI comment</th>\n",
       "      <th>best redshift</th>\n",
       "      <th>best spectype</th>\n",
       "      <th>vi_combined_flag</th>\n",
       "      <th>vi_diff</th>\n",
       "      <th>vi_combined_z</th>\n",
       "      <th>dz</th>\n",
       "      <th>all VI comments</th>\n",
       "      <th>N_VI</th>\n",
       "      <th>merger comment</th>\n",
       "    </tr>\n",
       "  </thead>\n",
       "  <tbody>\n",
       "    <tr>\n",
       "      <th>11</th>\n",
       "      <td>35185754028118049</td>\n",
       "      <td>GALAXY</td>\n",
       "      <td>1.528</td>\n",
       "      <td>BJW</td>\n",
       "      <td>0</td>\n",
       "      <td>--</td>\n",
       "      <td>--</td>\n",
       "      <td>--</td>\n",
       "      <td>[O II] among skylines not convincing</td>\n",
       "      <td>1.528</td>\n",
       "      <td>GALAXY</td>\n",
       "      <td>1.0</td>\n",
       "      <td>2</td>\n",
       "      <td>1.528</td>\n",
       "      <td>0.0</td>\n",
       "      <td>1|1| | | | | | | | | | | | | | | | | | |[|O| |...</td>\n",
       "      <td>3</td>\n",
       "      <td>none</td>\n",
       "    </tr>\n",
       "    <tr>\n",
       "      <th>61</th>\n",
       "      <td>35185754028118049</td>\n",
       "      <td>GALAXY</td>\n",
       "      <td>1.528</td>\n",
       "      <td>CGS</td>\n",
       "      <td>1</td>\n",
       "      <td>--</td>\n",
       "      <td>--</td>\n",
       "      <td>--</td>\n",
       "      <td>--</td>\n",
       "      <td>1.528</td>\n",
       "      <td>GALAXY</td>\n",
       "      <td>1.0</td>\n",
       "      <td>2</td>\n",
       "      <td>1.528</td>\n",
       "      <td>0.0</td>\n",
       "      <td>1|1| | | | | | | | | | | | | | | | | | |[|O| |...</td>\n",
       "      <td>3</td>\n",
       "      <td>none</td>\n",
       "    </tr>\n",
       "    <tr>\n",
       "      <th>111</th>\n",
       "      <td>35185754028118049</td>\n",
       "      <td>GALAXY</td>\n",
       "      <td>1.528</td>\n",
       "      <td>vrk</td>\n",
       "      <td>2</td>\n",
       "      <td>R</td>\n",
       "      <td>--</td>\n",
       "      <td>--</td>\n",
       "      <td>doublet in skyline noise region + VI redshift...</td>\n",
       "      <td>1.528</td>\n",
       "      <td>GALAXY</td>\n",
       "      <td>1.0</td>\n",
       "      <td>2</td>\n",
       "      <td>1.528</td>\n",
       "      <td>0.0</td>\n",
       "      <td>1|1| | | | | | | | | | | | | | | | | | |[|O| |...</td>\n",
       "      <td>3</td>\n",
       "      <td>none</td>\n",
       "    </tr>\n",
       "  </tbody>\n",
       "</table>\n",
       "</div>"
      ],
      "text/plain": [
       "              TargetID Redrock spectype  Redrock z VI scanner  VI class  \\\n",
       "11   35185754028118049           GALAXY      1.528        BJW         0   \n",
       "61   35185754028118049           GALAXY      1.528        CGS         1   \n",
       "111  35185754028118049           GALAXY      1.528        vrk         2   \n",
       "\n",
       "    VI issue VI z VI spectype  \\\n",
       "11        --   --          --   \n",
       "61        --   --          --   \n",
       "111        R   --          --   \n",
       "\n",
       "                                            VI comment  best redshift  \\\n",
       "11                [O II] among skylines not convincing          1.528   \n",
       "61                                                  --          1.528   \n",
       "111   doublet in skyline noise region + VI redshift...          1.528   \n",
       "\n",
       "    best spectype  vi_combined_flag  vi_diff  vi_combined_z   dz  \\\n",
       "11         GALAXY               1.0        2          1.528  0.0   \n",
       "61         GALAXY               1.0        2          1.528  0.0   \n",
       "111        GALAXY               1.0        2          1.528  0.0   \n",
       "\n",
       "                                       all VI comments  N_VI merger comment  \n",
       "11   1|1| | | | | | | | | | | | | | | | | | |[|O| |...     3           none  \n",
       "61   1|1| | | | | | | | | | | | | | | | | | |[|O| |...     3           none  \n",
       "111  1|1| | | | | | | | | | | | | | | | | | |[|O| |...     3           none  "
      ]
     },
     "metadata": {},
     "output_type": "display_data"
    }
   ],
   "source": [
    "#Keep track of the conflicts by conflict_id\n",
    "\n",
    "#copy this text to a new cell to display the conflict\n",
    "conflict_id=0\n",
    "display_conflict(conflict_id, show_spectra=True)"
   ]
  },
  {
   "cell_type": "code",
   "execution_count": null,
   "metadata": {},
   "outputs": [],
   "source": []
  },
  {
   "cell_type": "code",
   "execution_count": null,
   "metadata": {},
   "outputs": [],
   "source": []
  },
  {
   "cell_type": "code",
   "execution_count": null,
   "metadata": {},
   "outputs": [],
   "source": []
  },
  {
   "cell_type": "code",
   "execution_count": null,
   "metadata": {},
   "outputs": [],
   "source": []
  },
  {
   "cell_type": "code",
   "execution_count": null,
   "metadata": {},
   "outputs": [],
   "source": []
  },
  {
   "cell_type": "code",
   "execution_count": null,
   "metadata": {},
   "outputs": [],
   "source": []
  },
  {
   "cell_type": "markdown",
   "metadata": {},
   "source": [
    "### and so on...\n",
    "\n",
    "We should now recompute the conflicts, and not find any."
   ]
  },
  {
   "cell_type": "code",
   "execution_count": 260,
   "metadata": {},
   "outputs": [],
   "source": [
    "#vi_conflict = vi_gp.filter(lambda x: ( ( (x['VI class'].max()-x['VI class'].min()) >= 2) \n",
    "#                       | ( (x['best redshift'].max() - x['best redshift'].min()) / (1+x['best redshift'].min()) > 0.0033 ) \n",
    "#                       | (not all(i == x['best spectype'].iloc[0] for i in x['best spectype'])) )\n",
    "#                       & (len(x) >= 2)) #x is a group by TargetID\n",
    "vi_conflict = VI.find_conflicts(vi_gp)"
   ]
  },
  {
   "cell_type": "code",
   "execution_count": 261,
   "metadata": {},
   "outputs": [
    {
     "name": "stdout",
     "output_type": "stream",
     "text": [
      "Targets with problematic VI:  [35191335094849374]\n",
      "Total number of conflicts to resolve:  1\n"
     ]
    }
   ],
   "source": [
    "unique_targets = np.unique(vi_conflict['TargetID'].tolist())\n",
    "print('Targets with problematic VI: ', unique_targets)\n",
    "print('Total number of conflicts to resolve: ', len(unique_targets))"
   ]
  },
  {
   "cell_type": "markdown",
   "metadata": {},
   "source": [
    "Display anything that was missed (if \"Total number of conflicts\" isn't zero) and resolve!"
   ]
  },
  {
   "cell_type": "raw",
   "metadata": {},
   "source": [
    "for i in range(len(unique_targets)): \n",
    "    display(vi[vi.TargetID==unique_targets[i]])"
   ]
  },
  {
   "cell_type": "raw",
   "metadata": {},
   "source": [
    "#copy this text to a new cell to display the conflict\n",
    "conflict_id=0\n",
    "display_conflict(conflict_id)"
   ]
  },
  {
   "cell_type": "code",
   "execution_count": null,
   "metadata": {},
   "outputs": [],
   "source": []
  },
  {
   "cell_type": "code",
   "execution_count": null,
   "metadata": {},
   "outputs": [],
   "source": []
  },
  {
   "cell_type": "code",
   "execution_count": null,
   "metadata": {},
   "outputs": [],
   "source": []
  },
  {
   "cell_type": "code",
   "execution_count": null,
   "metadata": {},
   "outputs": [],
   "source": []
  },
  {
   "cell_type": "code",
   "execution_count": null,
   "metadata": {},
   "outputs": [],
   "source": []
  },
  {
   "cell_type": "code",
   "execution_count": null,
   "metadata": {},
   "outputs": [],
   "source": []
  },
  {
   "cell_type": "code",
   "execution_count": null,
   "metadata": {},
   "outputs": [],
   "source": []
  },
  {
   "cell_type": "markdown",
   "metadata": {},
   "source": [
    "Let's check the number of conflicts again."
   ]
  },
  {
   "cell_type": "code",
   "execution_count": 265,
   "metadata": {},
   "outputs": [],
   "source": [
    "#vi_conflict = vi_gp.filter(lambda x: ( ( (x['VI class'].max()-x['VI class'].min()) >= 2) \n",
    "#                       | ( (x['best redshift'].max() - x['best redshift'].min()) / (1+x['best redshift'].min()) > 0.0033 ) \n",
    "#                       | (not all(i == x['best spectype'].iloc[0] for i in x['best spectype'])) )\n",
    "#                       & (len(x) >= 2)) #x is a group by TargetID\n",
    "vi_conflict = VI.find_conflicts(vi_gp)"
   ]
  },
  {
   "cell_type": "code",
   "execution_count": 266,
   "metadata": {},
   "outputs": [
    {
     "name": "stdout",
     "output_type": "stream",
     "text": [
      "Targets with problematic VI:  []\n",
      "Total number of conflicts to resolve:  0\n"
     ]
    }
   ],
   "source": [
    "unique_targets = np.unique(vi_conflict['TargetID'].tolist())\n",
    "print('Targets with problematic VI: ', unique_targets)\n",
    "print('Total number of conflicts to resolve: ', len(unique_targets))"
   ]
  },
  {
   "cell_type": "markdown",
   "metadata": {},
   "source": [
    "## Woohoo!"
   ]
  },
  {
   "cell_type": "code",
   "execution_count": null,
   "metadata": {},
   "outputs": [],
   "source": []
  },
  {
   "cell_type": "code",
   "execution_count": null,
   "metadata": {},
   "outputs": [],
   "source": []
  },
  {
   "cell_type": "code",
   "execution_count": null,
   "metadata": {},
   "outputs": [],
   "source": []
  },
  {
   "cell_type": "markdown",
   "metadata": {},
   "source": [
    "## Finally\n",
    "we need to recompute vi_combined_flag and vi_combined_z, after everything is resolved."
   ]
  },
  {
   "cell_type": "code",
   "execution_count": 267,
   "metadata": {},
   "outputs": [],
   "source": [
    "vi['vi_combined_flag'] = vi.groupby('TargetID')['VI class'].transform('mean')\n",
    "vi['vi_combined_z'] = vi.groupby('TargetID')['best redshift'].transform('mean')\n"
   ]
  },
  {
   "cell_type": "markdown",
   "metadata": {},
   "source": [
    "## Now we prepare to write to file. \n",
    "\n",
    "### The important columns for the truth table construction are **vi_combined_flag** and **vi_combined_z** \n",
    "\n",
    "The truth table should **take the redhift value in vi_combined_z** for all objects with **vi_combined_flag >= 2.5** (for discussion, but this catches the cases where there is some disagreement on the 2/3 boundary).\n",
    "\n",
    "After the merging process, those two columns will be the same for ALL of the members of each group by TargetID, so it doesn't matter which member we write to file. Taking the 1st one just makes this easy. \n"
   ]
  },
  {
   "cell_type": "code",
   "execution_count": 268,
   "metadata": {},
   "outputs": [
    {
     "data": {
      "text/plain": [
       "Index(['TargetID', 'ExpID', 'Spec version', 'Redrock version',\n",
       "       'Redrock spectype', 'Redrock z', 'VI scanner', 'VI class', 'VI issue',\n",
       "       'VI z', 'VI spectype', 'VI comment', 'FIBER', 'FLUX_G', 'FLUX_R',\n",
       "       'FLUX_Z', 'FIBERFLUX_G', 'FIBERFLUX_R', 'FIBERFLUX_Z', 'DELTACHI2',\n",
       "       'best redshift', 'best spectype', 'vi_combined_flag', 'vi_diff',\n",
       "       'vi_combined_z', 'dz', 'all VI comments', 'N_VI', 'merger comment'],\n",
       "      dtype='object')"
      ]
     },
     "execution_count": 268,
     "metadata": {},
     "output_type": "execute_result"
    }
   ],
   "source": [
    "vi.keys()"
   ]
  },
  {
   "cell_type": "code",
   "execution_count": null,
   "metadata": {},
   "outputs": [],
   "source": [
    "print(VI_dir+save_filename)"
   ]
  },
  {
   "cell_type": "code",
   "execution_count": 269,
   "metadata": {},
   "outputs": [],
   "source": [
    "#vi_gp['Redrock z', 'Redrock spectype', 'best redshift' , 'best spectype', 'vi_combined_flag', 'all VI comments', 'merger comment', 'N_VI', 'DELTACHI2','FIBER','FLUX_G','FLUX_R','FLUX_Z','FIBERFLUX_G','FIBERFLUX_R','FIBERFLUX_Z'].first().to_csv(VI_dir+'merged_VI.txt')\n",
    "vi_gp['Redrock z', 'Redrock spectype', 'best redshift' , 'best spectype', 'vi_combined_flag', 'N_VI', 'all VI comments', 'merger comment','DELTACHI2','FIBER','FLUX_G','FLUX_R','FLUX_Z','FIBERFLUX_G','FIBERFLUX_R','FIBERFLUX_Z'].first().to_csv(VI_dir+save_filename)"
   ]
  },
  {
   "cell_type": "markdown",
   "metadata": {},
   "source": [
    "Check that merged file reads in OK - check comments"
   ]
  },
  {
   "cell_type": "code",
   "execution_count": 270,
   "metadata": {},
   "outputs": [],
   "source": [
    "merged_file = pd.read_csv(VI_dir+save_filename)"
   ]
  },
  {
   "cell_type": "code",
   "execution_count": 271,
   "metadata": {},
   "outputs": [
    {
     "data": {
      "text/plain": [
       "Index(['TargetID', 'Redrock z', 'Redrock spectype', 'best redshift',\n",
       "       'best spectype', 'vi_combined_flag', 'N_VI', 'DELTACHI2', 'FIBER',\n",
       "       'FLUX_G', 'FLUX_R', 'FLUX_Z', 'FIBERFLUX_G', 'FIBERFLUX_R',\n",
       "       'FIBERFLUX_Z'],\n",
       "      dtype='object')"
      ]
     },
     "execution_count": 271,
     "metadata": {},
     "output_type": "execute_result"
    }
   ],
   "source": [
    "merged_file.keys()"
   ]
  },
  {
   "cell_type": "code",
   "execution_count": 272,
   "metadata": {},
   "outputs": [
    {
     "data": {
      "text/html": [
       "<div>\n",
       "<style scoped>\n",
       "    .dataframe tbody tr th:only-of-type {\n",
       "        vertical-align: middle;\n",
       "    }\n",
       "\n",
       "    .dataframe tbody tr th {\n",
       "        vertical-align: top;\n",
       "    }\n",
       "\n",
       "    .dataframe thead th {\n",
       "        text-align: right;\n",
       "    }\n",
       "</style>\n",
       "<table border=\"1\" class=\"dataframe\">\n",
       "  <thead>\n",
       "    <tr style=\"text-align: right;\">\n",
       "      <th></th>\n",
       "      <th>TargetID</th>\n",
       "      <th>Redrock z</th>\n",
       "      <th>Redrock spectype</th>\n",
       "      <th>best redshift</th>\n",
       "      <th>best spectype</th>\n",
       "      <th>vi_combined_flag</th>\n",
       "      <th>N_VI</th>\n",
       "      <th>DELTACHI2</th>\n",
       "      <th>FIBER</th>\n",
       "      <th>FLUX_G</th>\n",
       "      <th>FLUX_R</th>\n",
       "      <th>FLUX_Z</th>\n",
       "      <th>FIBERFLUX_G</th>\n",
       "      <th>FIBERFLUX_R</th>\n",
       "      <th>FIBERFLUX_Z</th>\n",
       "    </tr>\n",
       "  </thead>\n",
       "  <tbody>\n",
       "    <tr>\n",
       "      <th>0</th>\n",
       "      <td>35191325322120560</td>\n",
       "      <td>0.1012</td>\n",
       "      <td>GALAXY</td>\n",
       "      <td>0.1012</td>\n",
       "      <td>GALAXY</td>\n",
       "      <td>4.000000</td>\n",
       "      <td>13</td>\n",
       "      <td>2248.126427</td>\n",
       "      <td>500</td>\n",
       "      <td>8.915575</td>\n",
       "      <td>13.690263</td>\n",
       "      <td>18.567017</td>\n",
       "      <td>3.849107</td>\n",
       "      <td>5.910476</td>\n",
       "      <td>8.015910</td>\n",
       "    </tr>\n",
       "    <tr>\n",
       "      <th>1</th>\n",
       "      <td>35191325326313329</td>\n",
       "      <td>0.2555</td>\n",
       "      <td>GALAXY</td>\n",
       "      <td>0.2555</td>\n",
       "      <td>GALAXY</td>\n",
       "      <td>4.000000</td>\n",
       "      <td>13</td>\n",
       "      <td>597.103415</td>\n",
       "      <td>471</td>\n",
       "      <td>3.061106</td>\n",
       "      <td>6.622557</td>\n",
       "      <td>11.148005</td>\n",
       "      <td>1.005650</td>\n",
       "      <td>2.175676</td>\n",
       "      <td>3.662399</td>\n",
       "    </tr>\n",
       "    <tr>\n",
       "      <th>2</th>\n",
       "      <td>35191325326313441</td>\n",
       "      <td>0.1513</td>\n",
       "      <td>GALAXY</td>\n",
       "      <td>0.1513</td>\n",
       "      <td>GALAXY</td>\n",
       "      <td>3.923077</td>\n",
       "      <td>13</td>\n",
       "      <td>402.013473</td>\n",
       "      <td>459</td>\n",
       "      <td>8.835087</td>\n",
       "      <td>15.250219</td>\n",
       "      <td>22.150007</td>\n",
       "      <td>1.184792</td>\n",
       "      <td>2.045066</td>\n",
       "      <td>2.970333</td>\n",
       "    </tr>\n",
       "    <tr>\n",
       "      <th>3</th>\n",
       "      <td>35191325326313842</td>\n",
       "      <td>0.1255</td>\n",
       "      <td>GALAXY</td>\n",
       "      <td>0.1255</td>\n",
       "      <td>GALAXY</td>\n",
       "      <td>4.000000</td>\n",
       "      <td>12</td>\n",
       "      <td>1171.531194</td>\n",
       "      <td>356</td>\n",
       "      <td>7.692234</td>\n",
       "      <td>12.353596</td>\n",
       "      <td>16.146137</td>\n",
       "      <td>2.066740</td>\n",
       "      <td>3.319149</td>\n",
       "      <td>4.338124</td>\n",
       "    </tr>\n",
       "    <tr>\n",
       "      <th>4</th>\n",
       "      <td>35191325326313983</td>\n",
       "      <td>0.0213</td>\n",
       "      <td>GALAXY</td>\n",
       "      <td>0.0213</td>\n",
       "      <td>GALAXY</td>\n",
       "      <td>4.000000</td>\n",
       "      <td>13</td>\n",
       "      <td>1233.152205</td>\n",
       "      <td>398</td>\n",
       "      <td>9.700712</td>\n",
       "      <td>11.533047</td>\n",
       "      <td>10.710887</td>\n",
       "      <td>1.310380</td>\n",
       "      <td>1.557893</td>\n",
       "      <td>1.446835</td>\n",
       "    </tr>\n",
       "    <tr>\n",
       "      <th>5</th>\n",
       "      <td>35191325326314275</td>\n",
       "      <td>0.5843</td>\n",
       "      <td>GALAXY</td>\n",
       "      <td>0.5843</td>\n",
       "      <td>GALAXY</td>\n",
       "      <td>3.769231</td>\n",
       "      <td>13</td>\n",
       "      <td>215.043012</td>\n",
       "      <td>191</td>\n",
       "      <td>3.716881</td>\n",
       "      <td>10.441963</td>\n",
       "      <td>23.580444</td>\n",
       "      <td>0.818709</td>\n",
       "      <td>2.300028</td>\n",
       "      <td>5.194012</td>\n",
       "    </tr>\n",
       "    <tr>\n",
       "      <th>6</th>\n",
       "      <td>35191325326314402</td>\n",
       "      <td>0.4220</td>\n",
       "      <td>GALAXY</td>\n",
       "      <td>0.4220</td>\n",
       "      <td>GALAXY</td>\n",
       "      <td>4.000000</td>\n",
       "      <td>13</td>\n",
       "      <td>1241.922597</td>\n",
       "      <td>397</td>\n",
       "      <td>4.036667</td>\n",
       "      <td>10.297829</td>\n",
       "      <td>18.527788</td>\n",
       "      <td>1.408013</td>\n",
       "      <td>3.591943</td>\n",
       "      <td>6.462602</td>\n",
       "    </tr>\n",
       "    <tr>\n",
       "      <th>7</th>\n",
       "      <td>35191325326314538</td>\n",
       "      <td>0.4593</td>\n",
       "      <td>GALAXY</td>\n",
       "      <td>0.4593</td>\n",
       "      <td>GALAXY</td>\n",
       "      <td>3.000000</td>\n",
       "      <td>13</td>\n",
       "      <td>360.383502</td>\n",
       "      <td>363</td>\n",
       "      <td>1.326949</td>\n",
       "      <td>6.981154</td>\n",
       "      <td>19.884447</td>\n",
       "      <td>0.448803</td>\n",
       "      <td>2.361180</td>\n",
       "      <td>6.725359</td>\n",
       "    </tr>\n",
       "    <tr>\n",
       "      <th>8</th>\n",
       "      <td>35191325326314565</td>\n",
       "      <td>0.2785</td>\n",
       "      <td>GALAXY</td>\n",
       "      <td>0.2785</td>\n",
       "      <td>GALAXY</td>\n",
       "      <td>3.769231</td>\n",
       "      <td>13</td>\n",
       "      <td>487.159330</td>\n",
       "      <td>192</td>\n",
       "      <td>3.047705</td>\n",
       "      <td>12.858685</td>\n",
       "      <td>27.577822</td>\n",
       "      <td>1.625618</td>\n",
       "      <td>6.858705</td>\n",
       "      <td>14.709757</td>\n",
       "    </tr>\n",
       "    <tr>\n",
       "      <th>9</th>\n",
       "      <td>35191325326314860</td>\n",
       "      <td>0.3363</td>\n",
       "      <td>GALAXY</td>\n",
       "      <td>0.3363</td>\n",
       "      <td>GALAXY</td>\n",
       "      <td>3.000000</td>\n",
       "      <td>13</td>\n",
       "      <td>284.628837</td>\n",
       "      <td>184</td>\n",
       "      <td>2.184791</td>\n",
       "      <td>9.017674</td>\n",
       "      <td>19.233717</td>\n",
       "      <td>1.025388</td>\n",
       "      <td>4.232265</td>\n",
       "      <td>9.026961</td>\n",
       "    </tr>\n",
       "    <tr>\n",
       "      <th>...</th>\n",
       "      <td>...</td>\n",
       "      <td>...</td>\n",
       "      <td>...</td>\n",
       "      <td>...</td>\n",
       "      <td>...</td>\n",
       "      <td>...</td>\n",
       "      <td>...</td>\n",
       "      <td>...</td>\n",
       "      <td>...</td>\n",
       "      <td>...</td>\n",
       "      <td>...</td>\n",
       "      <td>...</td>\n",
       "      <td>...</td>\n",
       "      <td>...</td>\n",
       "      <td>...</td>\n",
       "    </tr>\n",
       "    <tr>\n",
       "      <th>740</th>\n",
       "      <td>35191341453412245</td>\n",
       "      <td>0.1273</td>\n",
       "      <td>GALAXY</td>\n",
       "      <td>0.1273</td>\n",
       "      <td>GALAXY</td>\n",
       "      <td>3.666667</td>\n",
       "      <td>3</td>\n",
       "      <td>224.322988</td>\n",
       "      <td>1258</td>\n",
       "      <td>7.716496</td>\n",
       "      <td>10.613057</td>\n",
       "      <td>12.271201</td>\n",
       "      <td>0.764802</td>\n",
       "      <td>1.051887</td>\n",
       "      <td>1.216230</td>\n",
       "    </tr>\n",
       "    <tr>\n",
       "      <th>741</th>\n",
       "      <td>35191341453412381</td>\n",
       "      <td>0.5807</td>\n",
       "      <td>GALAXY</td>\n",
       "      <td>0.5807</td>\n",
       "      <td>GALAXY</td>\n",
       "      <td>4.000000</td>\n",
       "      <td>3</td>\n",
       "      <td>861.584516</td>\n",
       "      <td>1284</td>\n",
       "      <td>1.452261</td>\n",
       "      <td>7.210010</td>\n",
       "      <td>24.467226</td>\n",
       "      <td>0.498338</td>\n",
       "      <td>2.474086</td>\n",
       "      <td>8.395831</td>\n",
       "    </tr>\n",
       "    <tr>\n",
       "      <th>742</th>\n",
       "      <td>35191341453412488</td>\n",
       "      <td>0.0424</td>\n",
       "      <td>GALAXY</td>\n",
       "      <td>0.0424</td>\n",
       "      <td>GALAXY</td>\n",
       "      <td>4.000000</td>\n",
       "      <td>3</td>\n",
       "      <td>736.977665</td>\n",
       "      <td>1281</td>\n",
       "      <td>16.792116</td>\n",
       "      <td>28.484404</td>\n",
       "      <td>38.999790</td>\n",
       "      <td>2.302135</td>\n",
       "      <td>3.905103</td>\n",
       "      <td>5.346722</td>\n",
       "    </tr>\n",
       "    <tr>\n",
       "      <th>743</th>\n",
       "      <td>35191341453412521</td>\n",
       "      <td>0.4596</td>\n",
       "      <td>GALAXY</td>\n",
       "      <td>0.4596</td>\n",
       "      <td>GALAXY</td>\n",
       "      <td>4.000000</td>\n",
       "      <td>3</td>\n",
       "      <td>423.225890</td>\n",
       "      <td>1266</td>\n",
       "      <td>2.420117</td>\n",
       "      <td>7.031465</td>\n",
       "      <td>13.239141</td>\n",
       "      <td>0.568941</td>\n",
       "      <td>1.653015</td>\n",
       "      <td>3.112368</td>\n",
       "    </tr>\n",
       "    <tr>\n",
       "      <th>744</th>\n",
       "      <td>35191341453412525</td>\n",
       "      <td>0.3532</td>\n",
       "      <td>GALAXY</td>\n",
       "      <td>0.3532</td>\n",
       "      <td>GALAXY</td>\n",
       "      <td>4.000000</td>\n",
       "      <td>3</td>\n",
       "      <td>11138.423859</td>\n",
       "      <td>1260</td>\n",
       "      <td>8.492743</td>\n",
       "      <td>16.727352</td>\n",
       "      <td>25.651327</td>\n",
       "      <td>2.148642</td>\n",
       "      <td>4.231977</td>\n",
       "      <td>6.489720</td>\n",
       "    </tr>\n",
       "    <tr>\n",
       "      <th>745</th>\n",
       "      <td>35191341453412685</td>\n",
       "      <td>0.2018</td>\n",
       "      <td>GALAXY</td>\n",
       "      <td>0.2018</td>\n",
       "      <td>GALAXY</td>\n",
       "      <td>4.000000</td>\n",
       "      <td>3</td>\n",
       "      <td>856.875182</td>\n",
       "      <td>1293</td>\n",
       "      <td>13.091951</td>\n",
       "      <td>37.921406</td>\n",
       "      <td>75.853120</td>\n",
       "      <td>2.595887</td>\n",
       "      <td>7.519101</td>\n",
       "      <td>15.040244</td>\n",
       "    </tr>\n",
       "    <tr>\n",
       "      <th>746</th>\n",
       "      <td>35191341453412935</td>\n",
       "      <td>0.3585</td>\n",
       "      <td>GALAXY</td>\n",
       "      <td>0.3585</td>\n",
       "      <td>GALAXY</td>\n",
       "      <td>4.000000</td>\n",
       "      <td>3</td>\n",
       "      <td>8347.937302</td>\n",
       "      <td>1292</td>\n",
       "      <td>3.835292</td>\n",
       "      <td>8.996091</td>\n",
       "      <td>16.079828</td>\n",
       "      <td>2.266636</td>\n",
       "      <td>5.316638</td>\n",
       "      <td>9.503087</td>\n",
       "    </tr>\n",
       "    <tr>\n",
       "      <th>747</th>\n",
       "      <td>35191341453413066</td>\n",
       "      <td>0.2758</td>\n",
       "      <td>GALAXY</td>\n",
       "      <td>0.2758</td>\n",
       "      <td>GALAXY</td>\n",
       "      <td>4.000000</td>\n",
       "      <td>3</td>\n",
       "      <td>2616.333637</td>\n",
       "      <td>1285</td>\n",
       "      <td>10.459520</td>\n",
       "      <td>40.643353</td>\n",
       "      <td>81.779770</td>\n",
       "      <td>3.882636</td>\n",
       "      <td>15.087052</td>\n",
       "      <td>30.357134</td>\n",
       "    </tr>\n",
       "    <tr>\n",
       "      <th>748</th>\n",
       "      <td>35191341453413516</td>\n",
       "      <td>0.3398</td>\n",
       "      <td>GALAXY</td>\n",
       "      <td>0.3398</td>\n",
       "      <td>GALAXY</td>\n",
       "      <td>4.000000</td>\n",
       "      <td>3</td>\n",
       "      <td>610.203137</td>\n",
       "      <td>1276</td>\n",
       "      <td>5.812506</td>\n",
       "      <td>25.661250</td>\n",
       "      <td>63.827950</td>\n",
       "      <td>1.225034</td>\n",
       "      <td>5.408322</td>\n",
       "      <td>13.452272</td>\n",
       "    </tr>\n",
       "    <tr>\n",
       "      <th>749</th>\n",
       "      <td>35191341453413555</td>\n",
       "      <td>0.2253</td>\n",
       "      <td>GALAXY</td>\n",
       "      <td>0.2253</td>\n",
       "      <td>GALAXY</td>\n",
       "      <td>4.000000</td>\n",
       "      <td>3</td>\n",
       "      <td>2476.417642</td>\n",
       "      <td>1299</td>\n",
       "      <td>13.258558</td>\n",
       "      <td>29.147293</td>\n",
       "      <td>48.505700</td>\n",
       "      <td>3.004072</td>\n",
       "      <td>6.604078</td>\n",
       "      <td>10.990229</td>\n",
       "    </tr>\n",
       "  </tbody>\n",
       "</table>\n",
       "<p>750 rows × 15 columns</p>\n",
       "</div>"
      ],
      "text/plain": [
       "              TargetID  Redrock z Redrock spectype  best redshift  \\\n",
       "0    35191325322120560     0.1012           GALAXY         0.1012   \n",
       "1    35191325326313329     0.2555           GALAXY         0.2555   \n",
       "2    35191325326313441     0.1513           GALAXY         0.1513   \n",
       "3    35191325326313842     0.1255           GALAXY         0.1255   \n",
       "4    35191325326313983     0.0213           GALAXY         0.0213   \n",
       "..                 ...        ...              ...            ...   \n",
       "745  35191341453412685     0.2018           GALAXY         0.2018   \n",
       "746  35191341453412935     0.3585           GALAXY         0.3585   \n",
       "747  35191341453413066     0.2758           GALAXY         0.2758   \n",
       "748  35191341453413516     0.3398           GALAXY         0.3398   \n",
       "749  35191341453413555     0.2253           GALAXY         0.2253   \n",
       "\n",
       "    best spectype  vi_combined_flag  N_VI    DELTACHI2  FIBER     FLUX_G  \\\n",
       "0          GALAXY          4.000000    13  2248.126427    500   8.915575   \n",
       "1          GALAXY          4.000000    13   597.103415    471   3.061106   \n",
       "2          GALAXY          3.923077    13   402.013473    459   8.835087   \n",
       "3          GALAXY          4.000000    12  1171.531194    356   7.692234   \n",
       "4          GALAXY          4.000000    13  1233.152205    398   9.700712   \n",
       "..            ...               ...   ...          ...    ...        ...   \n",
       "745        GALAXY          4.000000     3   856.875182   1293  13.091951   \n",
       "746        GALAXY          4.000000     3  8347.937302   1292   3.835292   \n",
       "747        GALAXY          4.000000     3  2616.333637   1285  10.459520   \n",
       "748        GALAXY          4.000000     3   610.203137   1276   5.812506   \n",
       "749        GALAXY          4.000000     3  2476.417642   1299  13.258558   \n",
       "\n",
       "        FLUX_R     FLUX_Z  FIBERFLUX_G  FIBERFLUX_R  FIBERFLUX_Z  \n",
       "0    13.690263  18.567017     3.849107     5.910476     8.015910  \n",
       "1     6.622557  11.148005     1.005650     2.175676     3.662399  \n",
       "2    15.250219  22.150007     1.184792     2.045066     2.970333  \n",
       "3    12.353596  16.146137     2.066740     3.319149     4.338124  \n",
       "4    11.533047  10.710887     1.310380     1.557893     1.446835  \n",
       "..         ...        ...          ...          ...          ...  \n",
       "745  37.921406  75.853120     2.595887     7.519101    15.040244  \n",
       "746   8.996091  16.079828     2.266636     5.316638     9.503087  \n",
       "747  40.643353  81.779770     3.882636    15.087052    30.357134  \n",
       "748  25.661250  63.827950     1.225034     5.408322    13.452272  \n",
       "749  29.147293  48.505700     3.004072     6.604078    10.990229  \n",
       "\n",
       "[750 rows x 15 columns]"
      ]
     },
     "execution_count": 272,
     "metadata": {},
     "output_type": "execute_result"
    }
   ],
   "source": [
    "merged_file"
   ]
  },
  {
   "cell_type": "code",
   "execution_count": null,
   "metadata": {},
   "outputs": [],
   "source": [
    "merged_file.loc[9]['merger comment']"
   ]
  },
  {
   "cell_type": "code",
   "execution_count": null,
   "metadata": {},
   "outputs": [],
   "source": [
    "merged_file.loc[9]['all VI comments']"
   ]
  },
  {
   "cell_type": "code",
   "execution_count": 273,
   "metadata": {},
   "outputs": [
    {
     "data": {
      "text/plain": [
       "'/global/homes/r/rtojeiro/SV/VI_files/SV0/BGS/'"
      ]
     },
     "execution_count": 273,
     "metadata": {},
     "output_type": "execute_result"
    }
   ],
   "source": [
    "VI_dir"
   ]
  },
  {
   "cell_type": "code",
   "execution_count": null,
   "metadata": {},
   "outputs": [],
   "source": []
  }
 ],
 "metadata": {
  "kernelspec": {
   "display_name": "my DESI 19.10",
   "language": "python",
   "name": "desi-19.10"
  },
  "language_info": {
   "codemirror_mode": {
    "name": "ipython",
    "version": 3
   },
   "file_extension": ".py",
   "mimetype": "text/x-python",
   "name": "python",
   "nbconvert_exporter": "python",
   "pygments_lexer": "ipython3",
   "version": "3.6.6"
  }
 },
 "nbformat": 4,
 "nbformat_minor": 4
}
