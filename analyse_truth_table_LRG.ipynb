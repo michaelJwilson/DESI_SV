{
 "cells": [
  {
   "cell_type": "markdown",
   "metadata": {},
   "source": [
    "## Quick analysis of LRG truth table, and the failure modes"
   ]
  },
  {
   "cell_type": "code",
   "execution_count": 2,
   "metadata": {},
   "outputs": [],
   "source": [
    "import os, sys, glob\n",
    "import numpy as np\n",
    "\n",
    "from astropy.io import fits\n",
    "from astropy.table import Table, join, vstack\n",
    "from astropy.io import fits\n",
    "\n",
    "import pandas as pd\n",
    "import fnmatch\n",
    "\n",
    "import desispec.io\n",
    "\n",
    "#import desispec\n",
    "# library location will change ..\n",
    "sys.path.append(\"/global/homes/r/rtojeiro/prospect/prospect/py\")\n",
    "from prospect import utils_specviewer,plotframes\n",
    "import matplotlib.pyplot as plt \n",
    "fs = 15"
   ]
  },
  {
   "cell_type": "code",
   "execution_count": 3,
   "metadata": {},
   "outputs": [],
   "source": [
    "tiledir   = '/global/cfs/cdirs/desi/spectro/redux/daily/tiles/'\n",
    "tiles = ['68002']\n",
    "nights = ['20200315']\n",
    "petals = ['0','1', '2', '3', '4', '5', '6' ,'7', '8', '9']\n",
    "obs_db = utils_specviewer.make_targetdict(tiledir, petals=petals, tiles=tiles) # tiles = optional "
   ]
  },
  {
   "cell_type": "code",
   "execution_count": 4,
   "metadata": {},
   "outputs": [],
   "source": [
    "pd.set_option('display.max_rows', 20)"
   ]
  },
  {
   "cell_type": "code",
   "execution_count": 5,
   "metadata": {},
   "outputs": [],
   "source": [
    "def display_spectra(targetIDs, show_spectra=None):\n",
    "\n",
    "    # VI interface in notebook\n",
    "    if show_spectra:\n",
    "        spectra, zcat= utils_specviewer.load_spectra_zcat_from_targets(targetIDs, tiledir, obs_db)\n",
    "        plotframes.plotspectra(spectra, zcatalog=zcat, title='Target_select', notebook=True, mask_type='CMX_TARGET',with_vi_widgets=False)"
   ]
  },
  {
   "cell_type": "markdown",
   "metadata": {},
   "source": [
    "### Read table"
   ]
  },
  {
   "cell_type": "code",
   "execution_count": 6,
   "metadata": {},
   "outputs": [],
   "source": [
    "VI_dir = os.environ['HOME']+'/SV/VI_files/SV0/LRG/'\n",
    "\n",
    "filenames = ['truth_table_LRGs_sets2_10.txt', 'truth_table_LRGs_sets11_20.txt']\n",
    "merged_full = pd.read_csv(VI_dir+filenames[0])\n",
    "for i in range(1,len(filenames)):\n",
    "    merged = pd.read_csv(VI_dir+filenames[i])\n",
    "    merged_full = merged_full.append(merged, ignore_index=True,sort=False)\n",
    "\n",
    "full_filename='truth_table_LRG_partial_68002.txt'\n",
    "merged_full.to_csv(VI_dir + full_filename)"
   ]
  },
  {
   "cell_type": "code",
   "execution_count": null,
   "metadata": {},
   "outputs": [],
   "source": []
  },
  {
   "cell_type": "code",
   "execution_count": 7,
   "metadata": {},
   "outputs": [],
   "source": [
    "tt = pd.read_csv(VI_dir+full_filename)\n",
    "tt['dz'] = (tt['Redrock z'] - tt['best redshift'])/(1 + tt['best redshift'])"
   ]
  },
  {
   "cell_type": "code",
   "execution_count": 8,
   "metadata": {},
   "outputs": [
    {
     "data": {
      "text/plain": [
       "Index(['Unnamed: 0', 'TargetID', 'Redrock z', 'Redrock spectype',\n",
       "       'best redshift', 'best spectype', 'vi_combined_flag', 'N_VI',\n",
       "       'all VI comments', 'merger comment', 'DELTACHI2', 'FIBER', 'FLUX_G',\n",
       "       'FLUX_R', 'FLUX_Z', 'FIBERFLUX_G', 'FIBERFLUX_R', 'FIBERFLUX_Z', 'dz'],\n",
       "      dtype='object')"
      ]
     },
     "execution_count": 8,
     "metadata": {},
     "output_type": "execute_result"
    }
   ],
   "source": [
    "tt.keys()"
   ]
  },
  {
   "cell_type": "code",
   "execution_count": 9,
   "metadata": {},
   "outputs": [
    {
     "data": {
      "text/plain": [
       "950"
      ]
     },
     "execution_count": 9,
     "metadata": {},
     "output_type": "execute_result"
    }
   ],
   "source": [
    "len(tt)"
   ]
  },
  {
   "cell_type": "markdown",
   "metadata": {},
   "source": [
    "## Histogram of combined flags\n",
    "A combined flag is the mean of the flags of all inspectors in the cases where there are no conflicts, or a flag manually set by a merger in case of conflicts.\n",
    "\n",
    "**We take all objects with a combined flag greater than 2.5 as secure.**"
   ]
  },
  {
   "cell_type": "code",
   "execution_count": 10,
   "metadata": {},
   "outputs": [
    {
     "data": {
      "text/plain": [
       "Text(0,0.5,'N')"
      ]
     },
     "execution_count": 10,
     "metadata": {},
     "output_type": "execute_result"
    },
    {
     "data": {
      "image/png": "[encoded data removed]",
      "text/plain": [
       "<matplotlib.figure.Figure at 0x2aaad5d47d68>"
      ]
     },
     "metadata": {
      "needs_background": "light"
     },
     "output_type": "display_data"
    }
   ],
   "source": [
    "plt.figure(figsize=(12,7))\n",
    "plt.hist(tt['vi_combined_flag'])\n",
    "plt.xlabel('VI combined flag (post merging)', fontsize=fs)\n",
    "plt.ylabel('N', fontsize=fs)"
   ]
  },
  {
   "cell_type": "markdown",
   "metadata": {},
   "source": [
    "## Redshift distribution"
   ]
  },
  {
   "cell_type": "code",
   "execution_count": 26,
   "metadata": {},
   "outputs": [
    {
     "name": "stdout",
     "output_type": "stream",
     "text": [
      "741\n",
      "709\n",
      "900\n"
     ]
    }
   ],
   "source": [
    "lrgs = tt[(tt['best redshift'] > 0.4) & (tt['best redshift'] < 1.0) & (tt['best spectype']=='GALAXY') ]\n",
    "good = tt[(tt['vi_combined_flag'] >=2.5) & (tt['best redshift'] > 0.4) & (tt['best redshift'] < 1.0) & (tt['best spectype']=='GALAXY')]\n",
    "good_z = tt[(tt['vi_combined_flag'] >=2.5)]\n",
    "print(len(lrgs))\n",
    "print(len(good))\n",
    "print(len(good_z))"
   ]
  },
  {
   "cell_type": "code",
   "execution_count": 12,
   "metadata": {},
   "outputs": [
    {
     "name": "stdout",
     "output_type": "stream",
     "text": [
      "fraction of secure LRG redshifts:  0.9562334217506632\n"
     ]
    }
   ],
   "source": [
    "print('fraction of secure LRG redshifts: ',len(good)/len(lrgs))"
   ]
  },
  {
   "cell_type": "code",
   "execution_count": null,
   "metadata": {},
   "outputs": [],
   "source": []
  },
  {
   "cell_type": "code",
   "execution_count": 13,
   "metadata": {},
   "outputs": [
    {
     "data": {
      "text/plain": [
       "<matplotlib.legend.Legend at 0x2aaad5c334e0>"
      ]
     },
     "execution_count": 13,
     "metadata": {},
     "output_type": "execute_result"
    },
    {
     "data": {
      "image/png": "[encoded data removed]",
      "text/plain": [
       "<matplotlib.figure.Figure at 0x2aaad5bba8d0>"
      ]
     },
     "metadata": {
      "needs_background": "light"
     },
     "output_type": "display_data"
    }
   ],
   "source": [
    "plt.figure(figsize=(12,7))\n",
    "plt.hist(tt['best redshift'], label='all z, all flags', range=(0,2), bins=30)\n",
    "plt.hist(good['best redshift'], label = '0.4 < z < 1.0, flag > 2.5', range=(0,2), bins=30, alpha=0.8)\n",
    "plt.xlabel('best z', fontsize=fs)\n",
    "plt.ylabel('N', fontsize=fs)\n",
    "plt.legend()"
   ]
  },
  {
   "cell_type": "markdown",
   "metadata": {},
   "source": [
    "## Looking at the failures in more detail\n",
    "\n",
    "We define **secure failures** as objects for which redrock got the wrong redshift, but VI provides a secure redshift.\n",
    "\n",
    "We define **not secure failures** as objects for which redrock (probably) got the wrong redshift, and for which inspectors attempted an alternative redshift, but with low confidence.\n",
    "\n",
    "We can then inspect each of these sets in a dedicated prospect window.\n",
    "\n",
    "(below, we will also look at all spectra with poor VI flags)"
   ]
  },
  {
   "cell_type": "code",
   "execution_count": 14,
   "metadata": {},
   "outputs": [
    {
     "data": {
      "text/plain": [
       "Text(0,0.5,'Redrock z')"
      ]
     },
     "execution_count": 14,
     "metadata": {},
     "output_type": "execute_result"
    },
    {
     "data": {
      "image/png": "[encoded data removed]",
      "text/plain": [
       "<matplotlib.figure.Figure at 0x2aaae2bba438>"
      ]
     },
     "metadata": {
      "needs_background": "light"
     },
     "output_type": "display_data"
    }
   ],
   "source": [
    "plt.figure(figsize=(12,7))\n",
    "plt.scatter(good['best redshift'],good['Redrock z'] )\n",
    "plt.xlabel('best z', fontsize=fs)\n",
    "plt.ylabel('Redrock z', fontsize=fs)"
   ]
  },
  {
   "cell_type": "code",
   "execution_count": 15,
   "metadata": {},
   "outputs": [
    {
     "name": "stdout",
     "output_type": "stream",
     "text": [
      "4\n"
     ]
    }
   ],
   "source": [
    "fail_secure = tt[(np.abs(tt['dz'])>0.0033) & (tt['vi_combined_flag']>=2.5)]\n",
    "print(len(fail_secure))"
   ]
  },
  {
   "cell_type": "raw",
   "metadata": {},
   "source": [
    "fail_secure"
   ]
  },
  {
   "cell_type": "code",
   "execution_count": 16,
   "metadata": {},
   "outputs": [],
   "source": [
    "#display_spectra(fail_secure['TargetID'].to_list(), show_spectra=True)"
   ]
  },
  {
   "cell_type": "code",
   "execution_count": 17,
   "metadata": {},
   "outputs": [
    {
     "name": "stdout",
     "output_type": "stream",
     "text": [
      "10\n"
     ]
    }
   ],
   "source": [
    "fail_not_secure = tt[(np.abs(tt['dz'])>0.0033) & (tt['vi_combined_flag']<2.5)]\n",
    "print(len(fail_not_secure))"
   ]
  },
  {
   "cell_type": "raw",
   "metadata": {},
   "source": [
    "fail_not_secure"
   ]
  },
  {
   "cell_type": "code",
   "execution_count": 18,
   "metadata": {},
   "outputs": [],
   "source": [
    "#display_spectra(fail_not_secure['TargetID'].to_list(), show_spectra=True)"
   ]
  },
  {
   "cell_type": "code",
   "execution_count": null,
   "metadata": {},
   "outputs": [],
   "source": []
  },
  {
   "cell_type": "markdown",
   "metadata": {},
   "source": [
    "## Looking at poor-quality spectra\n",
    "\n",
    "More generally, we can look at ALL spectra with poor quality flags (for many of these, the redrock z will have been left untouched, and do not qualify as \"failures\")"
   ]
  },
  {
   "cell_type": "code",
   "execution_count": 19,
   "metadata": {},
   "outputs": [
    {
     "name": "stdout",
     "output_type": "stream",
     "text": [
      "50\n"
     ]
    }
   ],
   "source": [
    "not_secure = tt[tt['vi_combined_flag']<2.5]\n",
    "print(len(not_secure))"
   ]
  },
  {
   "cell_type": "raw",
   "metadata": {},
   "source": [
    "not_secure"
   ]
  },
  {
   "cell_type": "raw",
   "metadata": {},
   "source": [
    "#too many to load - subsample these\n",
    "display_spectra(not_secure['TargetID'].to_list(), show_spectra=True)"
   ]
  },
  {
   "cell_type": "code",
   "execution_count": null,
   "metadata": {},
   "outputs": [],
   "source": []
  },
  {
   "cell_type": "markdown",
   "metadata": {},
   "source": [
    "## Looking at delta_chi2"
   ]
  },
  {
   "cell_type": "code",
   "execution_count": 25,
   "metadata": {},
   "outputs": [
    {
     "data": {
      "text/plain": [
       "Text(0,0.5,'normalised distribution')"
      ]
     },
     "execution_count": 25,
     "metadata": {},
     "output_type": "execute_result"
    },
    {
     "data": {
      "image/png": "[encoded data removed]",
      "text/plain": [
       "<matplotlib.figure.Figure at 0x2aaae2fea320>"
      ]
     },
     "metadata": {
      "needs_background": "light"
     },
     "output_type": "display_data"
    }
   ],
   "source": [
    "plt.figure(figsize=(10,7))\n",
    "plt.hist(np.log10(not_secure['DELTACHI2']), label='flag < 2.5', histtype='step', normed=True, lw=4, range=(-1,5), bins=20)\n",
    "plt.hist(np.log10(good['DELTACHI2']), label='LRG, flag > 2.5', histtype='step', normed=True, lw=4, range=(-1,5), bins=20)\n",
    "plt.hist(np.log10(fail_secure['DELTACHI2']), label='rr wrong z, secure', alpha=0.5, normed=True, range=(-1,5), bins=20)\n",
    "plt.hist(np.log10(fail_not_secure['DELTACHI2']), label='rr wrong z, not secure', alpha=0.5, normed=True, range=(-1,5), bins=20)\n",
    "plt.legend(fontsize=fs)\n",
    "plt.xlabel('log delta_chi2', fontsize=fs)\n",
    "plt.ylabel('normalised distribution', fontsize=fs)\n"
   ]
  },
  {
   "cell_type": "code",
   "execution_count": null,
   "metadata": {},
   "outputs": [],
   "source": []
  }
 ],
 "metadata": {
  "kernelspec": {
   "display_name": "my DESI 19.10",
   "language": "python",
   "name": "desi-19.10"
  },
  "language_info": {
   "codemirror_mode": {
    "name": "ipython",
    "version": 3
   },
   "file_extension": ".py",
   "mimetype": "text/x-python",
   "name": "python",
   "nbconvert_exporter": "python",
   "pygments_lexer": "ipython3",
   "version": "3.6.6"
  }
 },
 "nbformat": 4,
 "nbformat_minor": 4
}
