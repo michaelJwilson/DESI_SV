{
 "cells": [
  {
   "cell_type": "markdown",
   "metadata": {},
   "source": [
    "## Selecting targets for visual re-inspection\n",
    "### LRGs - tile 68002\n",
    "\n",
    "This notebook will merge the truth tables with Andes redrock files and select targets that need to be re-inspected, according to the following criteria:\n",
    "\n",
    "- Redrock z changed between original and new;\n",
    "- Redrock chisq or delta chisq changed by a large amount.\n",
    "- New Redrock z disagrees with visual inspections;\n",
    "- New Redrock Spec type differs from VI;\n",
    "- The VI flag was < 2.5. **N.B: I changed this to <= 2.5**\n"
   ]
  },
  {
   "cell_type": "code",
   "execution_count": 1,
   "metadata": {},
   "outputs": [],
   "source": [
    "import os, sys, glob\n",
    "import numpy as np\n",
    "\n",
    "from astropy.io import fits\n",
    "from astropy.table import Table, join, vstack\n",
    "from astropy.io import fits\n",
    "\n",
    "import pandas as pd\n",
    "import fnmatch\n",
    "\n",
    "import desispec.io\n",
    "\n",
    "sys.path.append(\"/global/homes/r/rtojeiro/SV/python\")\n",
    "import VI_utils as VI\n",
    "\n",
    "import matplotlib.pyplot as plt \n",
    "\n",
    "pd.set_option('display.max_rows', 50)"
   ]
  },
  {
   "cell_type": "raw",
   "metadata": {},
   "source": [
    "tiledir   = '/global/cfs/cdirs/desi/spectro/redux/daily/tiles/'\n",
    "tiles = ['66003']\n",
    "nights = ['20200315']\n",
    "petals = ['0','1', '2', '3', '4', '5', '6' ,'7', '8', '9']"
   ]
  },
  {
   "cell_type": "code",
   "execution_count": 2,
   "metadata": {},
   "outputs": [],
   "source": [
    "tiledir_andes='/global/cfs/cdirs/desi/spectro/redux/andes/tiles/'\n",
    "tiledir = '/global/cfs/cdirs/desi/spectro/redux/daily/tiles/'\n",
    "tile = '68002'\n",
    "date = '20200315'\n",
    "spectrograph = ['0','1', '2', '3', '4', '5', '6' ,'7', '8', '9']"
   ]
  },
  {
   "cell_type": "code",
   "execution_count": 18,
   "metadata": {},
   "outputs": [],
   "source": [
    "#VI_dir = os.environ['HOME']+'/SV/VI_files/SV0/LRG/'\n",
    "save_filename = 'LRG_reinspection_68002.csv'"
   ]
  },
  {
   "cell_type": "markdown",
   "metadata": {},
   "source": [
    "### Read in truth table"
   ]
  },
  {
   "cell_type": "code",
   "execution_count": 4,
   "metadata": {},
   "outputs": [],
   "source": [
    "full_filename = 'truth_table_LRG_v1.2.csv'\n",
    "truth_table = pd.read_csv(os.environ['TT_DIR']+'/'+full_filename)\n",
    "#convert from pandas DataFrame to astropy Table for ease later\n",
    "#truth_table = Table.from_pandas(df)"
   ]
  },
  {
   "cell_type": "code",
   "execution_count": 5,
   "metadata": {},
   "outputs": [
    {
     "data": {
      "text/plain": [
       "Index(['TARGETID', 'Redrock z', 'best z', 'best quality', 'Redrock spectype',\n",
       "       'best spectype', 'all VI issues', 'all VI comments', 'merger comment',\n",
       "       'N_VI', 'DELTACHI2', 'ZWARN', 'ZERR', 'FIBER', 'FLUX_G', 'FLUX_R',\n",
       "       'FLUX_Z', 'FIBERFLUX_G', 'FIBERFLUX_R', 'FIBERFLUX_Z',\n",
       "       'MW_TRANSMISSION_G', 'MW_TRANSMISSION_R', 'MW_TRANSMISSION_Z'],\n",
       "      dtype='object')"
      ]
     },
     "execution_count": 5,
     "metadata": {},
     "output_type": "execute_result"
    }
   ],
   "source": [
    "truth_table.keys()"
   ]
  },
  {
   "cell_type": "markdown",
   "metadata": {},
   "source": [
    "First, add chi2 from the original reductions, as we never added that to the truth tables"
   ]
  },
  {
   "cell_type": "code",
   "execution_count": 6,
   "metadata": {},
   "outputs": [],
   "source": [
    "#read in zbest info, loop over the files for all the spectrographs\n",
    "tspec = Table.read(tiledir+'/'+tile + '/'+date+'/zbest-'+str(spectrograph[0])+'-'+str(tile)+'-'+date+'.fits',hdu='ZBEST')\n",
    "for i in range(1,len(spectrograph)):\n",
    "    tn = Table.read(tiledir+'/'+tile + '/'+date+'/zbest-'+str(spectrograph[i])+'-'+str(tile)+'-'+date+'.fits',hdu='ZBEST')\n",
    "    tspec = vstack([tspec,tn])\n",
    "\n",
    "tspec_df = tspec['TARGETID','CHI2'].to_pandas()\n",
    "\n",
    "truth_table = truth_table.merge(tspec_df, how='left', on='TARGETID')"
   ]
  },
  {
   "cell_type": "code",
   "execution_count": 7,
   "metadata": {},
   "outputs": [
    {
     "data": {
      "text/plain": [
       "Index(['TARGETID', 'Redrock z', 'best z', 'best quality', 'Redrock spectype',\n",
       "       'best spectype', 'all VI issues', 'all VI comments', 'merger comment',\n",
       "       'N_VI', 'DELTACHI2', 'ZWARN', 'ZERR', 'FIBER', 'FLUX_G', 'FLUX_R',\n",
       "       'FLUX_Z', 'FIBERFLUX_G', 'FIBERFLUX_R', 'FIBERFLUX_Z',\n",
       "       'MW_TRANSMISSION_G', 'MW_TRANSMISSION_R', 'MW_TRANSMISSION_Z', 'CHI2'],\n",
       "      dtype='object')"
      ]
     },
     "execution_count": 7,
     "metadata": {},
     "output_type": "execute_result"
    }
   ],
   "source": [
    "truth_table.keys()"
   ]
  },
  {
   "cell_type": "markdown",
   "metadata": {},
   "source": [
    "Now add information from the Andes reductions: redshift, chi2, deltachi2, spectype and warning flags"
   ]
  },
  {
   "cell_type": "code",
   "execution_count": 8,
   "metadata": {},
   "outputs": [],
   "source": [
    "#read in zbest info, loop over the files for all the spectrographs\n",
    "tspec = Table.read(tiledir_andes+'/'+tile + '/'+date+'/zbest-'+str(spectrograph[0])+'-'+str(tile)+'-'+date+'.fits',hdu='ZBEST')\n",
    "for i in range(1,len(spectrograph)):\n",
    "    tn = Table.read(tiledir_andes+'/'+tile + '/'+date+'/zbest-'+str(spectrograph[i])+'-'+str(tile)+'-'+date+'.fits',hdu='ZBEST')\n",
    "    tspec = vstack([tspec,tn])\n",
    "\n",
    "tspec_df = tspec['TARGETID','Z','CHI2', 'DELTACHI2','ZWARN', 'ZERR', 'SPECTYPE' ].to_pandas()\n",
    "\n",
    "tspec_df = tspec_df.rename(columns={\"Z\": \"Z_andes\"})\n",
    "tspec_df = tspec_df.rename(columns={\"CHI2\": \"CHI2_andes\"})\n",
    "tspec_df = tspec_df.rename(columns={\"SPECTYPE\": \"SPECTYPE_andes\"})\n",
    "\n",
    "truth_table = truth_table.merge(tspec_df, how='left', on='TARGETID', suffixes=('', '_andes'))"
   ]
  },
  {
   "cell_type": "code",
   "execution_count": 9,
   "metadata": {},
   "outputs": [
    {
     "data": {
      "text/plain": [
       "Index(['TARGETID', 'Redrock z', 'best z', 'best quality', 'Redrock spectype',\n",
       "       'best spectype', 'all VI issues', 'all VI comments', 'merger comment',\n",
       "       'N_VI', 'DELTACHI2', 'ZWARN', 'ZERR', 'FIBER', 'FLUX_G', 'FLUX_R',\n",
       "       'FLUX_Z', 'FIBERFLUX_G', 'FIBERFLUX_R', 'FIBERFLUX_Z',\n",
       "       'MW_TRANSMISSION_G', 'MW_TRANSMISSION_R', 'MW_TRANSMISSION_Z', 'CHI2',\n",
       "       'Z_andes', 'CHI2_andes', 'DELTACHI2_andes', 'ZWARN_andes', 'ZERR_andes',\n",
       "       'SPECTYPE_andes'],\n",
       "      dtype='object')"
      ]
     },
     "execution_count": 9,
     "metadata": {},
     "output_type": "execute_result"
    }
   ],
   "source": [
    "truth_table.keys()"
   ]
  },
  {
   "cell_type": "raw",
   "metadata": {},
   "source": [
    "- Redrock z changed between original and new; (done)\n",
    "- Redrock chisq or delta chisq changed by a large amount. (done for deltachi2)\n",
    "- New Redrock z disagrees with visual inspections; (done)\n",
    "- New Redrock Spec type differs from VI; (done)\n",
    "- The VI flag was <= 2.5.  (done)"
   ]
  },
  {
   "cell_type": "code",
   "execution_count": 10,
   "metadata": {},
   "outputs": [
    {
     "data": {
      "text/plain": [
       "Text(0,0.5,'DELTACHI Andes')"
      ]
     },
     "execution_count": 10,
     "metadata": {},
     "output_type": "execute_result"
    },
    {
     "data": {
      "image/png": "[encoded data removed]",
      "text/plain": [
       "<matplotlib.figure.Figure at 0x2aaae09d3e10>"
      ]
     },
     "metadata": {
      "needs_background": "light"
     },
     "output_type": "display_data"
    }
   ],
   "source": [
    "plt.figure(figsize=(10,7))\n",
    "plt.scatter(np.log10(truth_table['DELTACHI2']), np.log10(truth_table['DELTACHI2_andes']))\n",
    "plt.plot([-1,6], [-1,6], color='red')\n",
    "plt.xlabel('DELTACHI')\n",
    "plt.ylabel('DELTACHI Andes')"
   ]
  },
  {
   "cell_type": "code",
   "execution_count": 11,
   "metadata": {},
   "outputs": [
    {
     "data": {
      "text/plain": [
       "Text(0,0.5,'DELTACHI Andes')"
      ]
     },
     "execution_count": 11,
     "metadata": {},
     "output_type": "execute_result"
    },
    {
     "data": {
      "image/png": "[encoded data removed]",
      "text/plain": [
       "<matplotlib.figure.Figure at 0x2aaae1d6b240>"
      ]
     },
     "metadata": {
      "needs_background": "light"
     },
     "output_type": "display_data"
    }
   ],
   "source": [
    "plt.figure(figsize=(10,7))\n",
    "plt.scatter(np.log10(truth_table['DELTACHI2']), \n",
    "    (np.log10(truth_table['DELTACHI2'])-np.log10(truth_table['DELTACHI2_andes'])))\n",
    "plt.plot([-1,6], [0,0], color='red')\n",
    "plt.xlabel('DELTACHI')\n",
    "plt.ylabel('DELTACHI Andes')"
   ]
  },
  {
   "cell_type": "code",
   "execution_count": 27,
   "metadata": {},
   "outputs": [
    {
     "data": {
      "text/plain": [
       "Text(0,0.5,'N')"
      ]
     },
     "execution_count": 27,
     "metadata": {},
     "output_type": "execute_result"
    },
    {
     "data": {
      "image/png": "[encoded data removed]",
      "text/plain": [
       "<matplotlib.figure.Figure at 0x2aaae21b7160>"
      ]
     },
     "metadata": {
      "needs_background": "light"
     },
     "output_type": "display_data"
    }
   ],
   "source": [
    "plt.figure(figsize=(10,7))\n",
    "x=plt.hist(np.log10(truth_table['DELTACHI2'])-np.log10(truth_table['DELTACHI2_andes']), bins=30,\n",
    "            range=(-0.5,0.5))\n",
    "plt.xlabel('log_delchi2 - log_deltachi2_andes')\n",
    "plt.ylabel('N')"
   ]
  },
  {
   "cell_type": "markdown",
   "metadata": {},
   "source": [
    "I'm going to include everything for which log10_deltachi2 changed by more than 0.1 in absolute value"
   ]
  },
  {
   "cell_type": "code",
   "execution_count": 13,
   "metadata": {},
   "outputs": [
    {
     "data": {
      "text/plain": [
       "Text(0,0.5,'log CHI2 Andes')"
      ]
     },
     "execution_count": 13,
     "metadata": {},
     "output_type": "execute_result"
    },
    {
     "data": {
      "image/png": "[encoded data removed]",
      "text/plain": [
       "<matplotlib.figure.Figure at 0x2aaae1cbf438>"
      ]
     },
     "metadata": {
      "needs_background": "light"
     },
     "output_type": "display_data"
    }
   ],
   "source": [
    "plt.figure(figsize=(10,7))\n",
    "plt.scatter(np.log10(truth_table['CHI2']), np.log10(truth_table['CHI2_andes']))\n",
    "plt.plot([3.8,5], [3.8,5], color='red')\n",
    "plt.xlabel('log CHI2')\n",
    "plt.ylabel('log CHI2 Andes')"
   ]
  },
  {
   "cell_type": "markdown",
   "metadata": {},
   "source": [
    "Chi2 is generally higher in Andes, so I'm **not** going to include chi2 difference between original and Andes reductions in the criteria for re-inspection."
   ]
  },
  {
   "cell_type": "code",
   "execution_count": 14,
   "metadata": {},
   "outputs": [
    {
     "name": "stdout",
     "output_type": "stream",
     "text": [
      "194\n"
     ]
    }
   ],
   "source": [
    "re_VI = truth_table[ \\\n",
    "            ((truth_table['Redrock z']-truth_table['Z_andes'])/(1+truth_table['Redrock z']) > 0.0033) | \n",
    "            ((truth_table['best z']-truth_table['Z_andes'])/(1+truth_table['best z']) > 0.0033) |\n",
    "            (truth_table['best spectype'] != truth_table['SPECTYPE_andes']) |\n",
    "            (truth_table['best quality'] <= 2.5) | \n",
    "            (np.abs(np.log10(truth_table['DELTACHI2'])-np.log10(truth_table['DELTACHI2_andes'])) > 0.1 )       \n",
    "            ]\n",
    "print(len(re_VI))"
   ]
  },
  {
   "cell_type": "code",
   "execution_count": 15,
   "metadata": {},
   "outputs": [
    {
     "data": {
      "text/plain": [
       "Index(['TARGETID', 'Redrock z', 'best z', 'best quality', 'Redrock spectype',\n",
       "       'best spectype', 'all VI issues', 'all VI comments', 'merger comment',\n",
       "       'N_VI', 'DELTACHI2', 'ZWARN', 'ZERR', 'FIBER', 'FLUX_G', 'FLUX_R',\n",
       "       'FLUX_Z', 'FIBERFLUX_G', 'FIBERFLUX_R', 'FIBERFLUX_Z',\n",
       "       'MW_TRANSMISSION_G', 'MW_TRANSMISSION_R', 'MW_TRANSMISSION_Z', 'CHI2',\n",
       "       'Z_andes', 'CHI2_andes', 'DELTACHI2_andes', 'ZWARN_andes', 'ZERR_andes',\n",
       "       'SPECTYPE_andes'],\n",
       "      dtype='object')"
      ]
     },
     "execution_count": 15,
     "metadata": {},
     "output_type": "execute_result"
    }
   ],
   "source": [
    "re_VI.keys()"
   ]
  },
  {
   "cell_type": "code",
   "execution_count": 16,
   "metadata": {},
   "outputs": [
    {
     "data": {
      "text/html": [
       "<div>\n",
       "<style scoped>\n",
       "    .dataframe tbody tr th:only-of-type {\n",
       "        vertical-align: middle;\n",
       "    }\n",
       "\n",
       "    .dataframe tbody tr th {\n",
       "        vertical-align: top;\n",
       "    }\n",
       "\n",
       "    .dataframe thead th {\n",
       "        text-align: right;\n",
       "    }\n",
       "</style>\n",
       "<table border=\"1\" class=\"dataframe\">\n",
       "  <thead>\n",
       "    <tr style=\"text-align: right;\">\n",
       "      <th></th>\n",
       "      <th>best z</th>\n",
       "      <th>Redrock z</th>\n",
       "      <th>Z_andes</th>\n",
       "      <th>best quality</th>\n",
       "      <th>best spectype</th>\n",
       "      <th>SPECTYPE_andes</th>\n",
       "      <th>DELTACHI2</th>\n",
       "      <th>DELTACHI2_andes</th>\n",
       "    </tr>\n",
       "  </thead>\n",
       "  <tbody>\n",
       "    <tr>\n",
       "      <th>8</th>\n",
       "      <td>0.939600</td>\n",
       "      <td>1.6496</td>\n",
       "      <td>1.649624</td>\n",
       "      <td>2.000000</td>\n",
       "      <td>GALAXY</td>\n",
       "      <td>GALAXY</td>\n",
       "      <td>319.839685</td>\n",
       "      <td>285.027517</td>\n",
       "    </tr>\n",
       "    <tr>\n",
       "      <th>9</th>\n",
       "      <td>2.428571</td>\n",
       "      <td>1.0205</td>\n",
       "      <td>1.020445</td>\n",
       "      <td>2.428571</td>\n",
       "      <td>GALAXY</td>\n",
       "      <td>GALAXY</td>\n",
       "      <td>14.975785</td>\n",
       "      <td>12.276871</td>\n",
       "    </tr>\n",
       "    <tr>\n",
       "      <th>12</th>\n",
       "      <td>1.213020</td>\n",
       "      <td>1.6997</td>\n",
       "      <td>1.699679</td>\n",
       "      <td>3.000000</td>\n",
       "      <td>QSO</td>\n",
       "      <td>GALAXY</td>\n",
       "      <td>50.695473</td>\n",
       "      <td>46.466949</td>\n",
       "    </tr>\n",
       "    <tr>\n",
       "      <th>17</th>\n",
       "      <td>1.419300</td>\n",
       "      <td>0.8020</td>\n",
       "      <td>0.374297</td>\n",
       "      <td>2.000000</td>\n",
       "      <td>GALAXY</td>\n",
       "      <td>GALAXY</td>\n",
       "      <td>16.923035</td>\n",
       "      <td>21.841147</td>\n",
       "    </tr>\n",
       "    <tr>\n",
       "      <th>52</th>\n",
       "      <td>0.868900</td>\n",
       "      <td>0.8689</td>\n",
       "      <td>0.868892</td>\n",
       "      <td>3.333333</td>\n",
       "      <td>QSO</td>\n",
       "      <td>GALAXY</td>\n",
       "      <td>2568.080212</td>\n",
       "      <td>2683.402578</td>\n",
       "    </tr>\n",
       "    <tr>\n",
       "      <th>53</th>\n",
       "      <td>0.746800</td>\n",
       "      <td>0.7468</td>\n",
       "      <td>0.746722</td>\n",
       "      <td>3.666667</td>\n",
       "      <td>GALAXY</td>\n",
       "      <td>GALAXY</td>\n",
       "      <td>215.052406</td>\n",
       "      <td>278.040140</td>\n",
       "    </tr>\n",
       "    <tr>\n",
       "      <th>59</th>\n",
       "      <td>0.751200</td>\n",
       "      <td>0.7512</td>\n",
       "      <td>0.751150</td>\n",
       "      <td>2.666667</td>\n",
       "      <td>GALAXY</td>\n",
       "      <td>GALAXY</td>\n",
       "      <td>84.029477</td>\n",
       "      <td>112.163219</td>\n",
       "    </tr>\n",
       "    <tr>\n",
       "      <th>78</th>\n",
       "      <td>0.809100</td>\n",
       "      <td>0.8091</td>\n",
       "      <td>0.809132</td>\n",
       "      <td>3.000000</td>\n",
       "      <td>GALAXY</td>\n",
       "      <td>GALAXY</td>\n",
       "      <td>70.736228</td>\n",
       "      <td>47.572272</td>\n",
       "    </tr>\n",
       "    <tr>\n",
       "      <th>83</th>\n",
       "      <td>1.282700</td>\n",
       "      <td>1.2827</td>\n",
       "      <td>1.282675</td>\n",
       "      <td>2.000000</td>\n",
       "      <td>GALAXY</td>\n",
       "      <td>GALAXY</td>\n",
       "      <td>182.193671</td>\n",
       "      <td>215.520049</td>\n",
       "    </tr>\n",
       "    <tr>\n",
       "      <th>89</th>\n",
       "      <td>0.704300</td>\n",
       "      <td>0.7043</td>\n",
       "      <td>0.704332</td>\n",
       "      <td>2.000000</td>\n",
       "      <td>GALAXY</td>\n",
       "      <td>GALAXY</td>\n",
       "      <td>86.728548</td>\n",
       "      <td>72.271919</td>\n",
       "    </tr>\n",
       "    <tr>\n",
       "      <th>92</th>\n",
       "      <td>0.780600</td>\n",
       "      <td>0.7806</td>\n",
       "      <td>0.780527</td>\n",
       "      <td>2.666667</td>\n",
       "      <td>GALAXY</td>\n",
       "      <td>GALAXY</td>\n",
       "      <td>5.022108</td>\n",
       "      <td>21.490154</td>\n",
       "    </tr>\n",
       "    <tr>\n",
       "      <th>93</th>\n",
       "      <td>0.690700</td>\n",
       "      <td>0.6907</td>\n",
       "      <td>0.690708</td>\n",
       "      <td>2.000000</td>\n",
       "      <td>GALAXY</td>\n",
       "      <td>GALAXY</td>\n",
       "      <td>113.030507</td>\n",
       "      <td>149.267891</td>\n",
       "    </tr>\n",
       "    <tr>\n",
       "      <th>95</th>\n",
       "      <td>0.799000</td>\n",
       "      <td>0.7990</td>\n",
       "      <td>0.798969</td>\n",
       "      <td>3.333333</td>\n",
       "      <td>GALAXY</td>\n",
       "      <td>GALAXY</td>\n",
       "      <td>141.799669</td>\n",
       "      <td>197.027372</td>\n",
       "    </tr>\n",
       "    <tr>\n",
       "      <th>107</th>\n",
       "      <td>1.688500</td>\n",
       "      <td>1.6885</td>\n",
       "      <td>0.494979</td>\n",
       "      <td>0.666667</td>\n",
       "      <td>GALAXY</td>\n",
       "      <td>GALAXY</td>\n",
       "      <td>3.436046</td>\n",
       "      <td>20.174822</td>\n",
       "    </tr>\n",
       "    <tr>\n",
       "      <th>117</th>\n",
       "      <td>0.857100</td>\n",
       "      <td>0.8571</td>\n",
       "      <td>0.857027</td>\n",
       "      <td>3.666667</td>\n",
       "      <td>GALAXY</td>\n",
       "      <td>GALAXY</td>\n",
       "      <td>651.728245</td>\n",
       "      <td>958.028555</td>\n",
       "    </tr>\n",
       "    <tr>\n",
       "      <th>118</th>\n",
       "      <td>0.863450</td>\n",
       "      <td>0.5500</td>\n",
       "      <td>0.863804</td>\n",
       "      <td>2.000000</td>\n",
       "      <td>GALAXY</td>\n",
       "      <td>GALAXY</td>\n",
       "      <td>1.877104</td>\n",
       "      <td>13.276551</td>\n",
       "    </tr>\n",
       "    <tr>\n",
       "      <th>119</th>\n",
       "      <td>0.948900</td>\n",
       "      <td>0.5467</td>\n",
       "      <td>0.949330</td>\n",
       "      <td>2.000000</td>\n",
       "      <td>GALAXY</td>\n",
       "      <td>GALAXY</td>\n",
       "      <td>39.134686</td>\n",
       "      <td>189.540994</td>\n",
       "    </tr>\n",
       "    <tr>\n",
       "      <th>120</th>\n",
       "      <td>0.770000</td>\n",
       "      <td>0.7700</td>\n",
       "      <td>0.770100</td>\n",
       "      <td>3.666667</td>\n",
       "      <td>GALAXY</td>\n",
       "      <td>GALAXY</td>\n",
       "      <td>215.997483</td>\n",
       "      <td>311.572428</td>\n",
       "    </tr>\n",
       "    <tr>\n",
       "      <th>121</th>\n",
       "      <td>1.059200</td>\n",
       "      <td>1.0592</td>\n",
       "      <td>1.059190</td>\n",
       "      <td>3.666667</td>\n",
       "      <td>GALAXY</td>\n",
       "      <td>GALAXY</td>\n",
       "      <td>149.098092</td>\n",
       "      <td>224.249559</td>\n",
       "    </tr>\n",
       "    <tr>\n",
       "      <th>123</th>\n",
       "      <td>0.864700</td>\n",
       "      <td>0.5438</td>\n",
       "      <td>0.864840</td>\n",
       "      <td>3.000000</td>\n",
       "      <td>GALAXY</td>\n",
       "      <td>GALAXY</td>\n",
       "      <td>12.892883</td>\n",
       "      <td>207.023211</td>\n",
       "    </tr>\n",
       "    <tr>\n",
       "      <th>124</th>\n",
       "      <td>0.691600</td>\n",
       "      <td>0.5316</td>\n",
       "      <td>0.791338</td>\n",
       "      <td>2.000000</td>\n",
       "      <td>GALAXY</td>\n",
       "      <td>GALAXY</td>\n",
       "      <td>26.642000</td>\n",
       "      <td>47.065778</td>\n",
       "    </tr>\n",
       "    <tr>\n",
       "      <th>128</th>\n",
       "      <td>0.941700</td>\n",
       "      <td>0.5380</td>\n",
       "      <td>0.940045</td>\n",
       "      <td>3.000000</td>\n",
       "      <td>GALAXY</td>\n",
       "      <td>GALAXY</td>\n",
       "      <td>60.270765</td>\n",
       "      <td>283.903047</td>\n",
       "    </tr>\n",
       "    <tr>\n",
       "      <th>131</th>\n",
       "      <td>0.838500</td>\n",
       "      <td>0.8385</td>\n",
       "      <td>0.838385</td>\n",
       "      <td>3.333333</td>\n",
       "      <td>GALAXY</td>\n",
       "      <td>GALAXY</td>\n",
       "      <td>204.163795</td>\n",
       "      <td>357.681420</td>\n",
       "    </tr>\n",
       "    <tr>\n",
       "      <th>132</th>\n",
       "      <td>0.696700</td>\n",
       "      <td>0.6967</td>\n",
       "      <td>0.697524</td>\n",
       "      <td>3.333333</td>\n",
       "      <td>GALAXY</td>\n",
       "      <td>GALAXY</td>\n",
       "      <td>111.865727</td>\n",
       "      <td>220.567968</td>\n",
       "    </tr>\n",
       "    <tr>\n",
       "      <th>137</th>\n",
       "      <td>0.861700</td>\n",
       "      <td>0.8617</td>\n",
       "      <td>0.861696</td>\n",
       "      <td>3.666667</td>\n",
       "      <td>GALAXY</td>\n",
       "      <td>GALAXY</td>\n",
       "      <td>566.213270</td>\n",
       "      <td>929.646204</td>\n",
       "    </tr>\n",
       "    <tr>\n",
       "      <th>...</th>\n",
       "      <td>...</td>\n",
       "      <td>...</td>\n",
       "      <td>...</td>\n",
       "      <td>...</td>\n",
       "      <td>...</td>\n",
       "      <td>...</td>\n",
       "      <td>...</td>\n",
       "      <td>...</td>\n",
       "    </tr>\n",
       "    <tr>\n",
       "      <th>1250</th>\n",
       "      <td>1.311400</td>\n",
       "      <td>1.6652</td>\n",
       "      <td>1.665224</td>\n",
       "      <td>2.000000</td>\n",
       "      <td>GALAXY</td>\n",
       "      <td>GALAXY</td>\n",
       "      <td>17.258770</td>\n",
       "      <td>2.324787</td>\n",
       "    </tr>\n",
       "    <tr>\n",
       "      <th>1277</th>\n",
       "      <td>1.643000</td>\n",
       "      <td>1.6430</td>\n",
       "      <td>1.643048</td>\n",
       "      <td>1.666667</td>\n",
       "      <td>GALAXY</td>\n",
       "      <td>GALAXY</td>\n",
       "      <td>8.376762</td>\n",
       "      <td>12.168490</td>\n",
       "    </tr>\n",
       "    <tr>\n",
       "      <th>1279</th>\n",
       "      <td>0.911300</td>\n",
       "      <td>0.9560</td>\n",
       "      <td>0.956020</td>\n",
       "      <td>1.000000</td>\n",
       "      <td>GALAXY</td>\n",
       "      <td>QSO</td>\n",
       "      <td>7.047024</td>\n",
       "      <td>25.674763</td>\n",
       "    </tr>\n",
       "    <tr>\n",
       "      <th>1281</th>\n",
       "      <td>1.034500</td>\n",
       "      <td>1.0345</td>\n",
       "      <td>0.781463</td>\n",
       "      <td>0.000000</td>\n",
       "      <td>GALAXY</td>\n",
       "      <td>GALAXY</td>\n",
       "      <td>27.345430</td>\n",
       "      <td>10.777468</td>\n",
       "    </tr>\n",
       "    <tr>\n",
       "      <th>1292</th>\n",
       "      <td>2.134400</td>\n",
       "      <td>0.8909</td>\n",
       "      <td>0.890870</td>\n",
       "      <td>3.666667</td>\n",
       "      <td>QSO</td>\n",
       "      <td>GALAXY</td>\n",
       "      <td>68.484500</td>\n",
       "      <td>82.107673</td>\n",
       "    </tr>\n",
       "    <tr>\n",
       "      <th>1295</th>\n",
       "      <td>0.612200</td>\n",
       "      <td>0.6122</td>\n",
       "      <td>0.612220</td>\n",
       "      <td>2.000000</td>\n",
       "      <td>GALAXY</td>\n",
       "      <td>GALAXY</td>\n",
       "      <td>51.474821</td>\n",
       "      <td>56.031614</td>\n",
       "    </tr>\n",
       "    <tr>\n",
       "      <th>1297</th>\n",
       "      <td>1.442000</td>\n",
       "      <td>1.4420</td>\n",
       "      <td>1.484944</td>\n",
       "      <td>0.000000</td>\n",
       "      <td>GALAXY</td>\n",
       "      <td>GALAXY</td>\n",
       "      <td>0.332583</td>\n",
       "      <td>0.883569</td>\n",
       "    </tr>\n",
       "    <tr>\n",
       "      <th>1308</th>\n",
       "      <td>0.650200</td>\n",
       "      <td>0.6502</td>\n",
       "      <td>0.650180</td>\n",
       "      <td>4.000000</td>\n",
       "      <td>QSO</td>\n",
       "      <td>GALAXY</td>\n",
       "      <td>994.278058</td>\n",
       "      <td>1035.339986</td>\n",
       "    </tr>\n",
       "    <tr>\n",
       "      <th>1325</th>\n",
       "      <td>0.284800</td>\n",
       "      <td>0.2848</td>\n",
       "      <td>1.261140</td>\n",
       "      <td>0.000000</td>\n",
       "      <td>GALAXY</td>\n",
       "      <td>GALAXY</td>\n",
       "      <td>0.864491</td>\n",
       "      <td>2.819755</td>\n",
       "    </tr>\n",
       "    <tr>\n",
       "      <th>1327</th>\n",
       "      <td>0.500400</td>\n",
       "      <td>0.5004</td>\n",
       "      <td>0.952480</td>\n",
       "      <td>1.666667</td>\n",
       "      <td>GALAXY</td>\n",
       "      <td>GALAXY</td>\n",
       "      <td>29.419085</td>\n",
       "      <td>209.789742</td>\n",
       "    </tr>\n",
       "    <tr>\n",
       "      <th>1331</th>\n",
       "      <td>0.498100</td>\n",
       "      <td>0.4981</td>\n",
       "      <td>0.969595</td>\n",
       "      <td>1.666667</td>\n",
       "      <td>GALAXY</td>\n",
       "      <td>GALAXY</td>\n",
       "      <td>8.497832</td>\n",
       "      <td>189.678231</td>\n",
       "    </tr>\n",
       "    <tr>\n",
       "      <th>1332</th>\n",
       "      <td>0.987500</td>\n",
       "      <td>0.5075</td>\n",
       "      <td>0.986720</td>\n",
       "      <td>1.000000</td>\n",
       "      <td>GALAXY</td>\n",
       "      <td>GALAXY</td>\n",
       "      <td>46.627375</td>\n",
       "      <td>272.979140</td>\n",
       "    </tr>\n",
       "    <tr>\n",
       "      <th>1335</th>\n",
       "      <td>0.952500</td>\n",
       "      <td>0.4979</td>\n",
       "      <td>0.951921</td>\n",
       "      <td>2.000000</td>\n",
       "      <td>GALAXY</td>\n",
       "      <td>GALAXY</td>\n",
       "      <td>14.956412</td>\n",
       "      <td>500.720033</td>\n",
       "    </tr>\n",
       "    <tr>\n",
       "      <th>1336</th>\n",
       "      <td>1.514900</td>\n",
       "      <td>1.5149</td>\n",
       "      <td>0.971901</td>\n",
       "      <td>0.000000</td>\n",
       "      <td>GALAXY</td>\n",
       "      <td>GALAXY</td>\n",
       "      <td>21.466556</td>\n",
       "      <td>1.899715</td>\n",
       "    </tr>\n",
       "    <tr>\n",
       "      <th>1352</th>\n",
       "      <td>1.033500</td>\n",
       "      <td>1.0335</td>\n",
       "      <td>1.033527</td>\n",
       "      <td>3.333333</td>\n",
       "      <td>GALAXY</td>\n",
       "      <td>GALAXY</td>\n",
       "      <td>98.892867</td>\n",
       "      <td>143.174928</td>\n",
       "    </tr>\n",
       "    <tr>\n",
       "      <th>1355</th>\n",
       "      <td>0.842400</td>\n",
       "      <td>0.8424</td>\n",
       "      <td>0.842442</td>\n",
       "      <td>2.000000</td>\n",
       "      <td>GALAXY</td>\n",
       "      <td>GALAXY</td>\n",
       "      <td>112.044036</td>\n",
       "      <td>120.599855</td>\n",
       "    </tr>\n",
       "    <tr>\n",
       "      <th>1362</th>\n",
       "      <td>0.868900</td>\n",
       "      <td>0.8689</td>\n",
       "      <td>0.868892</td>\n",
       "      <td>3.333333</td>\n",
       "      <td>QSO</td>\n",
       "      <td>GALAXY</td>\n",
       "      <td>2568.080212</td>\n",
       "      <td>2683.402578</td>\n",
       "    </tr>\n",
       "    <tr>\n",
       "      <th>1363</th>\n",
       "      <td>0.746800</td>\n",
       "      <td>0.7468</td>\n",
       "      <td>0.746722</td>\n",
       "      <td>3.666667</td>\n",
       "      <td>GALAXY</td>\n",
       "      <td>GALAXY</td>\n",
       "      <td>215.052406</td>\n",
       "      <td>278.040140</td>\n",
       "    </tr>\n",
       "    <tr>\n",
       "      <th>1369</th>\n",
       "      <td>0.751200</td>\n",
       "      <td>0.7512</td>\n",
       "      <td>0.751150</td>\n",
       "      <td>2.666667</td>\n",
       "      <td>GALAXY</td>\n",
       "      <td>GALAXY</td>\n",
       "      <td>84.029477</td>\n",
       "      <td>112.163219</td>\n",
       "    </tr>\n",
       "    <tr>\n",
       "      <th>1388</th>\n",
       "      <td>0.809100</td>\n",
       "      <td>0.8091</td>\n",
       "      <td>0.809132</td>\n",
       "      <td>3.000000</td>\n",
       "      <td>GALAXY</td>\n",
       "      <td>GALAXY</td>\n",
       "      <td>70.736228</td>\n",
       "      <td>47.572272</td>\n",
       "    </tr>\n",
       "    <tr>\n",
       "      <th>1393</th>\n",
       "      <td>1.282700</td>\n",
       "      <td>1.2827</td>\n",
       "      <td>1.282675</td>\n",
       "      <td>2.000000</td>\n",
       "      <td>GALAXY</td>\n",
       "      <td>GALAXY</td>\n",
       "      <td>182.193671</td>\n",
       "      <td>215.520049</td>\n",
       "    </tr>\n",
       "    <tr>\n",
       "      <th>1399</th>\n",
       "      <td>0.704300</td>\n",
       "      <td>0.7043</td>\n",
       "      <td>0.704332</td>\n",
       "      <td>2.000000</td>\n",
       "      <td>GALAXY</td>\n",
       "      <td>GALAXY</td>\n",
       "      <td>86.728548</td>\n",
       "      <td>72.271919</td>\n",
       "    </tr>\n",
       "    <tr>\n",
       "      <th>1402</th>\n",
       "      <td>0.780600</td>\n",
       "      <td>0.7806</td>\n",
       "      <td>0.780527</td>\n",
       "      <td>2.000000</td>\n",
       "      <td>GALAXY</td>\n",
       "      <td>GALAXY</td>\n",
       "      <td>5.022108</td>\n",
       "      <td>21.490154</td>\n",
       "    </tr>\n",
       "    <tr>\n",
       "      <th>1403</th>\n",
       "      <td>0.690700</td>\n",
       "      <td>0.6907</td>\n",
       "      <td>0.690708</td>\n",
       "      <td>3.000000</td>\n",
       "      <td>GALAXY</td>\n",
       "      <td>GALAXY</td>\n",
       "      <td>113.030507</td>\n",
       "      <td>149.267891</td>\n",
       "    </tr>\n",
       "    <tr>\n",
       "      <th>1405</th>\n",
       "      <td>0.799000</td>\n",
       "      <td>0.7990</td>\n",
       "      <td>0.798969</td>\n",
       "      <td>3.333333</td>\n",
       "      <td>GALAXY</td>\n",
       "      <td>GALAXY</td>\n",
       "      <td>141.799669</td>\n",
       "      <td>197.027372</td>\n",
       "    </tr>\n",
       "  </tbody>\n",
       "</table>\n",
       "<p>194 rows × 8 columns</p>\n",
       "</div>"
      ],
      "text/plain": [
       "        best z  Redrock z   Z_andes  best quality best spectype  \\\n",
       "8     0.939600     1.6496  1.649624      2.000000        GALAXY   \n",
       "9     2.428571     1.0205  1.020445      2.428571        GALAXY   \n",
       "12    1.213020     1.6997  1.699679      3.000000           QSO   \n",
       "17    1.419300     0.8020  0.374297      2.000000        GALAXY   \n",
       "52    0.868900     0.8689  0.868892      3.333333           QSO   \n",
       "...        ...        ...       ...           ...           ...   \n",
       "1393  1.282700     1.2827  1.282675      2.000000        GALAXY   \n",
       "1399  0.704300     0.7043  0.704332      2.000000        GALAXY   \n",
       "1402  0.780600     0.7806  0.780527      2.000000        GALAXY   \n",
       "1403  0.690700     0.6907  0.690708      3.000000        GALAXY   \n",
       "1405  0.799000     0.7990  0.798969      3.333333        GALAXY   \n",
       "\n",
       "     SPECTYPE_andes    DELTACHI2  DELTACHI2_andes  \n",
       "8            GALAXY   319.839685       285.027517  \n",
       "9            GALAXY    14.975785        12.276871  \n",
       "12           GALAXY    50.695473        46.466949  \n",
       "17           GALAXY    16.923035        21.841147  \n",
       "52           GALAXY  2568.080212      2683.402578  \n",
       "...             ...          ...              ...  \n",
       "1393         GALAXY   182.193671       215.520049  \n",
       "1399         GALAXY    86.728548        72.271919  \n",
       "1402         GALAXY     5.022108        21.490154  \n",
       "1403         GALAXY   113.030507       149.267891  \n",
       "1405         GALAXY   141.799669       197.027372  \n",
       "\n",
       "[194 rows x 8 columns]"
      ]
     },
     "execution_count": 16,
     "metadata": {},
     "output_type": "execute_result"
    }
   ],
   "source": [
    "re_VI[['best z', 'Redrock z', 'Z_andes', 'best quality', 'best spectype', 'SPECTYPE_andes', 'DELTACHI2', 'DELTACHI2_andes']]"
   ]
  },
  {
   "cell_type": "code",
   "execution_count": 17,
   "metadata": {},
   "outputs": [],
   "source": [
    "re_VI['TARGETID'].to_csv(os.environ['TT_DIR']+save_filename, index=False, header=False)"
   ]
  }
 ],
 "metadata": {
  "kernelspec": {
   "display_name": "my DESI 19.10",
   "language": "python",
   "name": "desi-19.10"
  },
  "language_info": {
   "codemirror_mode": {
    "name": "ipython",
    "version": 3
   },
   "file_extension": ".py",
   "mimetype": "text/x-python",
   "name": "python",
   "nbconvert_exporter": "python",
   "pygments_lexer": "ipython3",
   "version": "3.6.6"
  }
 },
 "nbformat": 4,
 "nbformat_minor": 4
}
